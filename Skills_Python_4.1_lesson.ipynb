{
 "cells": [
  {
   "cell_type": "markdown",
   "metadata": {
    "id": "ztPv6Kb-ILDp"
   },
   "source": [
    "<div\n",
    "  style=\"\n",
    "    padding: 36px 20px 63px 20px;\n",
    "    background-color: #009ee4;\n",
    "    border-radius: 0 0 200px 0;\n",
    "  \"\n",
    ">\n",
    "  <img\n",
    "    style=\"width: 188px; height: 40px; margin: 0\"\n",
    "    src=\"data:image/png;base64,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\"\n",
    "  />\n",
    "\n",
    "  <div\n",
    "    style=\"\n",
    "      color: white;\n",
    "      margin-top: 52px;\n",
    "      font-size: 56px;\n",
    "      line-height: 64px;\n",
    "      font-family: Arial;\n",
    "    \"\n",
    "  >\n",
    "Маркетинговый А/В тест относительно изменений оформления интернет-магазина пекарни\n",
    "     \n",
    "  </div>\n",
    "</div>\n"
   ]
  },
  {
   "cell_type": "markdown",
   "metadata": {
    "id": "DpoWAquwhvaJ"
   },
   "source": [
    "## Изучим исторические данные, чтобы выбрать окно для конверсии\n",
    "\n",
    "**Окно конверсии** – это время, которое мы даем пользователям на принятие решения. \n",
    "\n",
    "Например, мы знаем, что большинство наших клиентов, которые в итоге совершают целевое действие (шаг 2 после шага 1), принимают решение о нем за 2 дня. Значит нужно выделить эти два дня всем участникам теста. То есть прибавить 2 дня к тестированию после того, как мы собрали нужно число наблюдений. Важно: если человек сделал заказ на 5-ый день — этот заказ мы уже не будем учитывать."
   ]
  },
  {
   "cell_type": "code",
   "execution_count": 2,
   "metadata": {
    "id": "F5MUk47ShvaL"
   },
   "outputs": [],
   "source": [
    "import pandas as pd"
   ]
  },
  {
   "cell_type": "markdown",
   "metadata": {
    "id": "QNwThd0WhvaN"
   },
   "source": [
    "Подключимся к даным. В аргумент `pd.read_csv()` передадим, что в колонках 1 и 2 у нас дата, и что мы назначаем первый столбец исходных данных индексом. Там лежит просто нумерация строк от 0."
   ]
  },
  {
   "cell_type": "code",
   "execution_count": 3,
   "metadata": {
    "id": "6COX-UTRhvaO"
   },
   "outputs": [],
   "source": [
    "historical_data = pd.read_csv('historical_data.csv',parse_dates = [1,2,3],  index_col = 0)"
   ]
  },
  {
   "cell_type": "code",
   "execution_count": 4,
   "metadata": {
    "id": "lnAIu0xshvaO",
    "outputId": "44891828-bbfa-473d-8b37-9577d6998df3"
   },
   "outputs": [
    {
     "data": {
      "text/html": [
       "<div>\n",
       "<style scoped>\n",
       "    .dataframe tbody tr th:only-of-type {\n",
       "        vertical-align: middle;\n",
       "    }\n",
       "\n",
       "    .dataframe tbody tr th {\n",
       "        vertical-align: top;\n",
       "    }\n",
       "\n",
       "    .dataframe thead th {\n",
       "        text-align: right;\n",
       "    }\n",
       "</style>\n",
       "<table border=\"1\" class=\"dataframe\">\n",
       "  <thead>\n",
       "    <tr style=\"text-align: right;\">\n",
       "      <th></th>\n",
       "      <th>user_id</th>\n",
       "      <th>main_page_viewed_at</th>\n",
       "      <th>order_completed_at</th>\n",
       "      <th>time_to_order</th>\n",
       "    </tr>\n",
       "  </thead>\n",
       "  <tbody>\n",
       "    <tr>\n",
       "      <th>0</th>\n",
       "      <td>959238</td>\n",
       "      <td>2020-11-20 23:55:02.759000+00:00</td>\n",
       "      <td>2020-12-02 23:55:02.759000+00:00</td>\n",
       "      <td>13.375000</td>\n",
       "    </tr>\n",
       "    <tr>\n",
       "      <th>1</th>\n",
       "      <td>337366</td>\n",
       "      <td>2020-12-05 23:41:42.244000+00:00</td>\n",
       "      <td>2020-12-17 23:41:42.244000+00:00</td>\n",
       "      <td>10.208333</td>\n",
       "    </tr>\n",
       "    <tr>\n",
       "      <th>2</th>\n",
       "      <td>259956</td>\n",
       "      <td>2020-11-20 23:33:53.269000+00:00</td>\n",
       "      <td>2020-11-30 23:33:53.269000+00:00</td>\n",
       "      <td>6.708333</td>\n",
       "    </tr>\n",
       "    <tr>\n",
       "      <th>3</th>\n",
       "      <td>534280</td>\n",
       "      <td>2020-11-28 23:44:56.556000+00:00</td>\n",
       "      <td>2020-12-09 23:44:56.556000+00:00</td>\n",
       "      <td>9.458333</td>\n",
       "    </tr>\n",
       "    <tr>\n",
       "      <th>4</th>\n",
       "      <td>795121</td>\n",
       "      <td>2020-11-18 23:59:56.236000+00:00</td>\n",
       "      <td>2020-11-26 23:59:56.236000+00:00</td>\n",
       "      <td>11.916667</td>\n",
       "    </tr>\n",
       "  </tbody>\n",
       "</table>\n",
       "</div>"
      ],
      "text/plain": [
       "  user_id              main_page_viewed_at               order_completed_at  \\\n",
       "0  959238 2020-11-20 23:55:02.759000+00:00 2020-12-02 23:55:02.759000+00:00   \n",
       "1  337366 2020-12-05 23:41:42.244000+00:00 2020-12-17 23:41:42.244000+00:00   \n",
       "2  259956 2020-11-20 23:33:53.269000+00:00 2020-11-30 23:33:53.269000+00:00   \n",
       "3  534280 2020-11-28 23:44:56.556000+00:00 2020-12-09 23:44:56.556000+00:00   \n",
       "4  795121 2020-11-18 23:59:56.236000+00:00 2020-11-26 23:59:56.236000+00:00   \n",
       "\n",
       "   time_to_order  \n",
       "0      13.375000  \n",
       "1      10.208333  \n",
       "2       6.708333  \n",
       "3       9.458333  \n",
       "4      11.916667  "
      ]
     },
     "execution_count": 4,
     "metadata": {},
     "output_type": "execute_result"
    }
   ],
   "source": [
    "historical_data.head()"
   ]
  },
  {
   "cell_type": "code",
   "execution_count": 5,
   "metadata": {},
   "outputs": [
    {
     "data": {
      "text/plain": [
       "user_id                             object\n",
       "main_page_viewed_at    datetime64[ns, UTC]\n",
       "order_completed_at     datetime64[ns, UTC]\n",
       "time_to_order                      float64\n",
       "dtype: object"
      ]
     },
     "execution_count": 5,
     "metadata": {},
     "output_type": "execute_result"
    }
   ],
   "source": [
    "historical_data.dtypes"
   ]
  },
  {
   "cell_type": "markdown",
   "metadata": {
    "id": "QAoMQYTQhvaS"
   },
   "source": [
    "Подключимся к  библиотеке — **NumPy.** \n"
   ]
  },
  {
   "cell_type": "code",
   "execution_count": 6,
   "metadata": {
    "id": "Ip3o2nGZhvaT"
   },
   "outputs": [],
   "source": [
    "import numpy as np"
   ]
  },
  {
   "cell_type": "markdown",
   "metadata": {
    "id": "op9Q4M3shvaU"
   },
   "source": [
    "Из **NumPy** берем функцию `percentile()`— на вход она принимает набор данных. В нашем случае: первым агрументом — столбец из датафрейма, для которых нам нужно посчитать перцентиль и вторым — значение перцентиля, которое нас интересует.\n",
    "\n",
    "Например, если мы хотим определить 10% самых активных покупателей за прошлый месяц — по сути, нам нужно увидеть всех покупателей выше границы в 90%. Это и будет 90% перцентиль."
   ]
  },
  {
   "cell_type": "code",
   "execution_count": 7,
   "metadata": {
    "id": "PRIIBXQnhvaV",
    "outputId": "e93a6edc-79dc-462a-9b3c-ace37a8654a3"
   },
   "outputs": [
    {
     "data": {
      "text/plain": [
       "20.95833333333333"
      ]
     },
     "execution_count": 7,
     "metadata": {},
     "output_type": "execute_result"
    }
   ],
   "source": [
    "np.percentile(historical_data['time_to_order'], 100) # сотый перцентиль - значение для всей выборки"
   ]
  },
  {
   "cell_type": "code",
   "execution_count": 8,
   "metadata": {
    "id": "t-0Hr2OAhvaW",
    "outputId": "f356b2b9-ca8e-49fe-fdd1-7d37bba992ec"
   },
   "outputs": [
    {
     "data": {
      "text/plain": [
       "10.458333333333334"
      ]
     },
     "execution_count": 8,
     "metadata": {},
     "output_type": "execute_result"
    }
   ],
   "source": [
    "np.percentile(historical_data['time_to_order'], 95) # значение для 95% выборки"
   ]
  },
  {
   "cell_type": "code",
   "execution_count": 9,
   "metadata": {
    "id": "t3Y1F52jhvaX",
    "outputId": "a8046020-3729-4eb2-b8e6-05832ba167e6"
   },
   "outputs": [
    {
     "data": {
      "text/plain": [
       "2.9246527777777755"
      ]
     },
     "execution_count": 9,
     "metadata": {},
     "output_type": "execute_result"
    }
   ],
   "source": [
    "np.percentile(historical_data['time_to_order'], 85) # значение для 85% выборки"
   ]
  },
  {
   "cell_type": "markdown",
   "metadata": {
    "id": "t9uL1ClShvaZ"
   },
   "source": [
    "Разница между 95 и 85 перцентилем довольно большая — кажется логичным взять 85 перцентиль для дальнейшего исследования окна конверсии. Но в целом, вы всегда выбираете это значение сами.\n",
    "\n",
    "Чтобы было удобнее работать с числами, округлим их до одного знака после запятой функцией `round()`."
   ]
  },
  {
   "cell_type": "code",
   "execution_count": 13,
   "metadata": {
    "id": "2ncCjk_VhvaZ"
   },
   "outputs": [
    {
     "data": {
      "text/plain": [
       "2.9"
      ]
     },
     "execution_count": 13,
     "metadata": {},
     "output_type": "execute_result"
    }
   ],
   "source": [
    "perc_85 = round(np.percentile(historical_data['time_to_order'], 85), 1)\n",
    "perc_85"
   ]
  },
  {
   "cell_type": "markdown",
   "metadata": {
    "id": "u3TsmyPshvaa"
   },
   "source": [
    "Перцентили удобно смотреть на графиках, чтобы видеть распределение — поэтому подключимся к библиотекам визуализации."
   ]
  },
  {
   "cell_type": "code",
   "execution_count": 10,
   "metadata": {
    "id": "d2LHArXqhvab"
   },
   "outputs": [],
   "source": [
    "import seaborn as sns \n",
    "import matplotlib.pyplot as plt"
   ]
  },
  {
   "cell_type": "markdown",
   "metadata": {
    "id": "jJ5kFWwthvac"
   },
   "source": [
    "Строим гистограмму с помощью функции `sns.distplot()` библиотеки **seaborn**\n",
    "\n",
    "Чтобы удобно было читать график, зададим легенду с помощью `f-строк`: они делают то же, что метод `format`. С его помощью выведем в легенду значение, которое передается графику перцентиля:\n",
    "\n",
    "    label = f'85-ый перцентиль – {perc_85} дней'"
   ]
  },
  {
   "cell_type": "code",
   "execution_count": 11,
   "metadata": {
    "id": "XoFrODwVhvad",
    "outputId": "6feca51a-a618-488e-a463-1cdebfec3e89"
   },
   "outputs": [
    {
     "name": "stderr",
     "output_type": "stream",
     "text": [
      "C:\\anaconda\\lib\\site-packages\\seaborn\\distributions.py:2619: FutureWarning: `distplot` is a deprecated function and will be removed in a future version. Please adapt your code to use either `displot` (a figure-level function with similar flexibility) or `histplot` (an axes-level function for histograms).\n",
      "  warnings.warn(msg, FutureWarning)\n"
     ]
    },
    {
     "data": {
      "image/png": "[encoded data removed]",
      "text/plain": [
       "<Figure size 1152x648 with 1 Axes>"
      ]
     },
     "metadata": {
      "needs_background": "light"
     },
     "output_type": "display_data"
    }
   ],
   "source": [
    "plt.figure(figsize=(16,9))\n",
    "sns.distplot(historical_data['time_to_order'])\n",
    "plt.vlines(perc_85, ymin = 0, ymax = 0.7, linestyles = 'dashed', label = f'85-ый перцентиль – {perc_85} дней')\n",
    "plt.title('Распределение времени между первым заходом на сайт и покупкой')\n",
    "plt.xlabel('Количество дней')\n",
    "plt.ylabel('Количество пользователей')\n",
    "plt.legend()\n",
    "plt.show()"
   ]
  },
  {
   "cell_type": "markdown",
   "metadata": {
    "id": "Dl_RkWJthvae"
   },
   "source": [
    "<div\n",
    "  style=\"\n",
    "    padding: 24px;\n",
    "    background-color: #009ee4;\n",
    "    border-radius: 24px;\n",
    "    color: white;\n",
    "    font-family: Arial;\n",
    "  \"\n",
    ">\n",
    "  <div style=\"font-size: 32px; line-height: 32px; font-weight: bold\">\n",
    "    Подведем итоги\n",
    "  </div>\n",
    "\n",
    "  <div style=\"margin-top: 16px; font-size: 18px; line-height: 24px\">\n",
    "      Возьмем 3 дня в качестве окна для конверсии, так как 85% пользователей делают заказ именно в этот период\n",
    "       \n",
    "   \n",
    "  </div>\n",
    "</div>\n"
   ]
  },
  {
   "cell_type": "markdown",
   "metadata": {
    "id": "O4P6KkB4hvaf"
   },
   "source": [
    "## **Исследуем распределение пользователей по группам по основным сегментам**\n",
    "\n",
    "Если наши пользователи будут распределены по сегментам неравномерно — есть риск, что факторы принадлежности к одному из сегментов повлияют на результат теста. Например, в регионах у нас меньше конкурентов, чем в Москве, и в целом пользователи более лояльные. \n",
    "\n",
    "Сегменты — это группы пользователей, сформированные по неким свойствам, общим для всей группы.\n",
    "\n",
    "- по гео-группе: из какой страны, города, района наши пользователи\n",
    "- по маркетиноговому каналу привлечения: платный трафик, соцсети, органический, рекламная акция\n",
    "- по демографи: пол, возраст\n",
    "- по особенностям поведения: регулярность покупок, средний чек и т.д.\n",
    "\n",
    "### Подключимся к данным нашего теста"
   ]
  },
  {
   "cell_type": "code",
   "execution_count": 12,
   "metadata": {
    "id": "ON54KPTBhvag"
   },
   "outputs": [],
   "source": [
    "data = pd.read_csv('ab_data.csv', index_col = 0)"
   ]
  },
  {
   "cell_type": "markdown",
   "metadata": {
    "id": "IYtSLsMlhvag"
   },
   "source": [
    "В колонке `created_order_in_3_days` \n",
    "- 0 — для пользователей, которые ничего не купили в течение трех дней \n",
    "- 1 — для тех, кто совершил покупку в отведенное окно конверсии"
   ]
  },
  {
   "cell_type": "code",
   "execution_count": 13,
   "metadata": {
    "id": "FTdUvBpShvah",
    "outputId": "e717add9-8958-4ea0-bb3f-f015cd6f0b31"
   },
   "outputs": [
    {
     "data": {
      "text/html": [
       "<div>\n",
       "<style scoped>\n",
       "    .dataframe tbody tr th:only-of-type {\n",
       "        vertical-align: middle;\n",
       "    }\n",
       "\n",
       "    .dataframe tbody tr th {\n",
       "        vertical-align: top;\n",
       "    }\n",
       "\n",
       "    .dataframe thead th {\n",
       "        text-align: right;\n",
       "    }\n",
       "</style>\n",
       "<table border=\"1\" class=\"dataframe\">\n",
       "  <thead>\n",
       "    <tr style=\"text-align: right;\">\n",
       "      <th></th>\n",
       "      <th>user_id</th>\n",
       "      <th>test_group</th>\n",
       "      <th>created_order_in_3_days</th>\n",
       "      <th>order_sum</th>\n",
       "      <th>geo_group</th>\n",
       "      <th>marketing_group</th>\n",
       "    </tr>\n",
       "  </thead>\n",
       "  <tbody>\n",
       "    <tr>\n",
       "      <th>0</th>\n",
       "      <td>1057393</td>\n",
       "      <td>test</td>\n",
       "      <td>0.0</td>\n",
       "      <td>NaN</td>\n",
       "      <td>regions</td>\n",
       "      <td>context_brand</td>\n",
       "    </tr>\n",
       "    <tr>\n",
       "      <th>1</th>\n",
       "      <td>1005901</td>\n",
       "      <td>control</td>\n",
       "      <td>0.0</td>\n",
       "      <td>NaN</td>\n",
       "      <td>msk</td>\n",
       "      <td>context_brand</td>\n",
       "    </tr>\n",
       "    <tr>\n",
       "      <th>2</th>\n",
       "      <td>1049074</td>\n",
       "      <td>test</td>\n",
       "      <td>0.0</td>\n",
       "      <td>NaN</td>\n",
       "      <td>regions</td>\n",
       "      <td>organic</td>\n",
       "    </tr>\n",
       "    <tr>\n",
       "      <th>3</th>\n",
       "      <td>1027399</td>\n",
       "      <td>control</td>\n",
       "      <td>0.0</td>\n",
       "      <td>NaN</td>\n",
       "      <td>regions</td>\n",
       "      <td>context_brand</td>\n",
       "    </tr>\n",
       "    <tr>\n",
       "      <th>4</th>\n",
       "      <td>1060042</td>\n",
       "      <td>test</td>\n",
       "      <td>0.0</td>\n",
       "      <td>NaN</td>\n",
       "      <td>regions</td>\n",
       "      <td>social_media</td>\n",
       "    </tr>\n",
       "  </tbody>\n",
       "</table>\n",
       "</div>"
      ],
      "text/plain": [
       "   user_id test_group  created_order_in_3_days  order_sum geo_group  \\\n",
       "0  1057393       test                      0.0        NaN   regions   \n",
       "1  1005901    control                      0.0        NaN       msk   \n",
       "2  1049074       test                      0.0        NaN   regions   \n",
       "3  1027399    control                      0.0        NaN   regions   \n",
       "4  1060042       test                      0.0        NaN   regions   \n",
       "\n",
       "  marketing_group  \n",
       "0   context_brand  \n",
       "1   context_brand  \n",
       "2         organic  \n",
       "3   context_brand  \n",
       "4    social_media  "
      ]
     },
     "execution_count": 13,
     "metadata": {},
     "output_type": "execute_result"
    }
   ],
   "source": [
    "data.head()"
   ]
  },
  {
   "cell_type": "markdown",
   "metadata": {
    "id": "puYbEz-Whvai"
   },
   "source": [
    "В колонке `test_group` у каждого пользователя проставлен статус: был он в тестовой группе или в контрольной. \n",
    "\n",
    "Посчитаем для каждой группы: \n",
    "- количество ползователей `'user_id': 'count'`\n",
    "- сумма единиц — количество пользователей, которые совершили покупку в рамках окна конверии в 3 дня `'created_order_in_3_days': 'sum'`\n",
    "\n",
    "И добавим новый столбец с конверсией в обеих группах. Количество купивших разделим на общее количество в группе."
   ]
  },
  {
   "cell_type": "code",
   "execution_count": 14,
   "metadata": {
    "id": "qNZYQlKohvaj",
    "outputId": "67e16a1a-4869-4aba-f42b-6d7fbb53f9e1"
   },
   "outputs": [
    {
     "data": {
      "text/html": [
       "<div>\n",
       "<style scoped>\n",
       "    .dataframe tbody tr th:only-of-type {\n",
       "        vertical-align: middle;\n",
       "    }\n",
       "\n",
       "    .dataframe tbody tr th {\n",
       "        vertical-align: top;\n",
       "    }\n",
       "\n",
       "    .dataframe thead th {\n",
       "        text-align: right;\n",
       "    }\n",
       "</style>\n",
       "<table border=\"1\" class=\"dataframe\">\n",
       "  <thead>\n",
       "    <tr style=\"text-align: right;\">\n",
       "      <th></th>\n",
       "      <th>test_group</th>\n",
       "      <th>user_id</th>\n",
       "      <th>created_order_in_3_days</th>\n",
       "      <th>conversion</th>\n",
       "    </tr>\n",
       "  </thead>\n",
       "  <tbody>\n",
       "    <tr>\n",
       "      <th>0</th>\n",
       "      <td>control</td>\n",
       "      <td>10222</td>\n",
       "      <td>3119.0</td>\n",
       "      <td>30.51</td>\n",
       "    </tr>\n",
       "    <tr>\n",
       "      <th>1</th>\n",
       "      <td>test</td>\n",
       "      <td>10367</td>\n",
       "      <td>3369.0</td>\n",
       "      <td>32.50</td>\n",
       "    </tr>\n",
       "  </tbody>\n",
       "</table>\n",
       "</div>"
      ],
      "text/plain": [
       "  test_group  user_id  created_order_in_3_days  conversion\n",
       "0    control    10222                   3119.0       30.51\n",
       "1       test    10367                   3369.0       32.50"
      ]
     },
     "execution_count": 14,
     "metadata": {},
     "output_type": "execute_result"
    }
   ],
   "source": [
    "metrics = data.groupby('test_group', as_index= False).agg({'user_id': 'count', 'created_order_in_3_days': 'sum'})\n",
    "metrics['conversion'] = round(metrics['created_order_in_3_days']/metrics['user_id']*100, 2)\n",
    "metrics"
   ]
  },
  {
   "cell_type": "code",
   "execution_count": 15,
   "metadata": {
    "id": "jvbf0h06hvak"
   },
   "outputs": [],
   "source": [
    "import seaborn as sns"
   ]
  },
  {
   "cell_type": "markdown",
   "metadata": {
    "id": "MDkeXSq0hvak"
   },
   "source": [
    "Мы хотим быстро посмотреть распределение сегментов в обеих группах. Для этого напишем функцию, которая строит столбиковую диаграмму по сегментам для каждой группы.\n",
    "\n",
    "- по оси x график выводит сегмент, который мы передадим\n",
    "- по оси y график выводит количество пользователей\n",
    "- в данных мы сгруппируем количество пользователей по тестовой и контрольной группе \n",
    "\n"
   ]
  },
  {
   "cell_type": "code",
   "execution_count": 16,
   "metadata": {
    "id": "deMfDTIrhval"
   },
   "outputs": [],
   "source": [
    "def plot_segments_distribution(df, segment_columns, test_factor):\n",
    "    for segment in segment_columns:\n",
    "        aggregated_data = df.groupby(by = [test_factor, segment])['user_id'].count().reset_index()\n",
    "        sns.catplot(x = segment, \n",
    "                    y = 'user_id', \n",
    "                    hue = test_factor, # сообщаем, что хотим, чтобы разные группы имели разный цвет\n",
    "                    data = aggregated_data, \n",
    "                    kind = \"bar\", \n",
    "                    height = 4, # задаем размер графика \n",
    "                    aspect = 1.5) # задаем ширину столбца\n",
    "    "
   ]
  },
  {
   "cell_type": "markdown",
   "metadata": {
    "id": "U9KpYyjzhvam"
   },
   "source": [
    "Функции, которая у нас получилась, передаем 3 аргумента:"
   ]
  },
  {
   "cell_type": "code",
   "execution_count": 17,
   "metadata": {
    "id": "WL3hzC0Nhvan",
    "outputId": "bf2f247c-de2f-404e-fcc0-5995173ee632"
   },
   "outputs": [
    {
     "data": {
      "image/png": "[encoded data removed]",
      "text/plain": [
       "<Figure size 502.5x288 with 1 Axes>"
      ]
     },
     "metadata": {
      "needs_background": "light"
     },
     "output_type": "display_data"
    },
    {
     "data": {
      "image/png": "[encoded data removed]",
      "text/plain": [
       "<Figure size 502.5x288 with 1 Axes>"
      ]
     },
     "metadata": {
      "needs_background": "light"
     },
     "output_type": "display_data"
    }
   ],
   "source": [
    "plot_segments_distribution(data, #датафрейм\n",
    "                           [\"geo_group\", \"marketing_group\"], #сегменты\n",
    "                           \"test_group\") #тест-фактор"
   ]
  },
  {
   "cell_type": "markdown",
   "metadata": {
    "id": "7-bpZMNZhvan"
   },
   "source": [
    "Пользователи распределены неравномерно. \n",
    "\n",
    "Чтобы оценить, насколько это смещение повлияет на анализ теста, посмотрим на конверсию в каждой маркетинговой группе:"
   ]
  },
  {
   "cell_type": "code",
   "execution_count": 18,
   "metadata": {
    "id": "x_NVnW0Ahvao",
    "outputId": "dc38e1ac-2ce6-4975-9798-d35293acd37f"
   },
   "outputs": [
    {
     "data": {
      "text/html": [
       "<div>\n",
       "<style scoped>\n",
       "    .dataframe tbody tr th:only-of-type {\n",
       "        vertical-align: middle;\n",
       "    }\n",
       "\n",
       "    .dataframe tbody tr th {\n",
       "        vertical-align: top;\n",
       "    }\n",
       "\n",
       "    .dataframe thead th {\n",
       "        text-align: right;\n",
       "    }\n",
       "</style>\n",
       "<table border=\"1\" class=\"dataframe\">\n",
       "  <thead>\n",
       "    <tr style=\"text-align: right;\">\n",
       "      <th></th>\n",
       "      <th>marketing_group</th>\n",
       "      <th>user_id</th>\n",
       "      <th>created_order_in_3_days</th>\n",
       "      <th>conversion</th>\n",
       "    </tr>\n",
       "  </thead>\n",
       "  <tbody>\n",
       "    <tr>\n",
       "      <th>0</th>\n",
       "      <td>context_brand</td>\n",
       "      <td>3197</td>\n",
       "      <td>1040.0</td>\n",
       "      <td>32.53</td>\n",
       "    </tr>\n",
       "    <tr>\n",
       "      <th>1</th>\n",
       "      <td>organic</td>\n",
       "      <td>7317</td>\n",
       "      <td>2605.0</td>\n",
       "      <td>35.60</td>\n",
       "    </tr>\n",
       "    <tr>\n",
       "      <th>2</th>\n",
       "      <td>social_media</td>\n",
       "      <td>2262</td>\n",
       "      <td>646.0</td>\n",
       "      <td>28.56</td>\n",
       "    </tr>\n",
       "    <tr>\n",
       "      <th>3</th>\n",
       "      <td>target_direct</td>\n",
       "      <td>7813</td>\n",
       "      <td>2197.0</td>\n",
       "      <td>28.12</td>\n",
       "    </tr>\n",
       "  </tbody>\n",
       "</table>\n",
       "</div>"
      ],
      "text/plain": [
       "  marketing_group  user_id  created_order_in_3_days  conversion\n",
       "0   context_brand     3197                   1040.0       32.53\n",
       "1         organic     7317                   2605.0       35.60\n",
       "2    social_media     2262                    646.0       28.56\n",
       "3   target_direct     7813                   2197.0       28.12"
      ]
     },
     "execution_count": 18,
     "metadata": {},
     "output_type": "execute_result"
    }
   ],
   "source": [
    "metrics = data.groupby('marketing_group', as_index= False).agg({'user_id': 'count', 'created_order_in_3_days': 'sum'})\n",
    "metrics['conversion'] = round(metrics['created_order_in_3_days']/metrics['user_id']*100, 2)\n",
    "metrics"
   ]
  },
  {
   "cell_type": "markdown",
   "metadata": {
    "id": "f60TBoW2hvao"
   },
   "source": [
    "<body>\n",
    "  <div style=\"padding: 24px; background-color: #ff7775; border-radius: 24px\">\n",
    "    <img\n",
    "      style=\"width: 56px; height: 56px; float: left\"\n",
    "      src=\"data:image/png;base64,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\"\n",
    "    />\n",
    "    <div\n",
    "      style=\"\n",
    "        font-size: 18px;\n",
    "        line-height: 26px;\n",
    "        font-family: Arial;\n",
    "        color: white;\n",
    "        margin-left: 84px;\n",
    "      \"\n",
    "    >\n",
    "      Распределение пользователей по группам смещено по маркетинговым каналам. Например, в тестовой группе больше пользователей из группы organic, которые демонстрируют более высокую конверсию. \n",
    "    </div>\n",
    "  </div>\n",
    "</body>\n",
    "\n",
    "\n"
   ]
  },
  {
   "cell_type": "markdown",
   "metadata": {
    "id": "0Yl4YPUzhvap"
   },
   "source": [
    "<div\n",
    "  style=\"\n",
    "    padding: 24px;\n",
    "    background-color: #009ee4;\n",
    "    border-radius: 24px;\n",
    "    color: white;\n",
    "    font-family: Arial;\n",
    "  \"\n",
    ">\n",
    "  <div style=\"font-size: 36px; margin-top: 6px; line-height: 16px; font-weight: bold\">\n",
    "    Решение\n",
    "  <div style=\" font-size: 18px; line-height: 24px\">\n",
    "       <br />\n",
    "    1. Починим сплитование — механизм распределения пользователей по группам. \n",
    "        <br />\n",
    "    2. Перезапустим эксперимент и наберем новые данные.\n",
    "      \n",
    "\n",
    "</div>\n"
   ]
  },
  {
   "cell_type": "markdown",
   "metadata": {
    "id": "1EZsKwn5hvaq"
   },
   "source": [
    "## Проверим распредление после перезапуска эксперимента\n",
    "\n",
    "Подключимся к данным после исправления сплитования — метода, который распределеяет пользователей по группам:"
   ]
  },
  {
   "cell_type": "code",
   "execution_count": 19,
   "metadata": {
    "id": "UCduy2Tthvar"
   },
   "outputs": [],
   "source": [
    "data = pd.read_csv('ab_data_restarted.csv', index_col = 0)"
   ]
  },
  {
   "cell_type": "code",
   "execution_count": 20,
   "metadata": {
    "id": "UEnIIwaChvas",
    "outputId": "00da71e7-ade3-496f-ff97-711255daef57"
   },
   "outputs": [
    {
     "data": {
      "text/html": [
       "<div>\n",
       "<style scoped>\n",
       "    .dataframe tbody tr th:only-of-type {\n",
       "        vertical-align: middle;\n",
       "    }\n",
       "\n",
       "    .dataframe tbody tr th {\n",
       "        vertical-align: top;\n",
       "    }\n",
       "\n",
       "    .dataframe thead th {\n",
       "        text-align: right;\n",
       "    }\n",
       "</style>\n",
       "<table border=\"1\" class=\"dataframe\">\n",
       "  <thead>\n",
       "    <tr style=\"text-align: right;\">\n",
       "      <th></th>\n",
       "      <th>user_id</th>\n",
       "      <th>test_group</th>\n",
       "      <th>created_order_in_3_days</th>\n",
       "      <th>order_sum</th>\n",
       "      <th>geo_group</th>\n",
       "      <th>marketing_group</th>\n",
       "    </tr>\n",
       "  </thead>\n",
       "  <tbody>\n",
       "    <tr>\n",
       "      <th>39152</th>\n",
       "      <td>1005040</td>\n",
       "      <td>control</td>\n",
       "      <td>1</td>\n",
       "      <td>5194.269328</td>\n",
       "      <td>msk</td>\n",
       "      <td>target_direct</td>\n",
       "    </tr>\n",
       "    <tr>\n",
       "      <th>19680</th>\n",
       "      <td>1069723</td>\n",
       "      <td>test</td>\n",
       "      <td>0</td>\n",
       "      <td>NaN</td>\n",
       "      <td>msk</td>\n",
       "      <td>target_direct</td>\n",
       "    </tr>\n",
       "    <tr>\n",
       "      <th>6738</th>\n",
       "      <td>1064653</td>\n",
       "      <td>test</td>\n",
       "      <td>0</td>\n",
       "      <td>NaN</td>\n",
       "      <td>msk</td>\n",
       "      <td>target_direct</td>\n",
       "    </tr>\n",
       "    <tr>\n",
       "      <th>12480</th>\n",
       "      <td>1063744</td>\n",
       "      <td>test</td>\n",
       "      <td>1</td>\n",
       "      <td>18940.000000</td>\n",
       "      <td>msk</td>\n",
       "      <td>organic</td>\n",
       "    </tr>\n",
       "    <tr>\n",
       "      <th>6626</th>\n",
       "      <td>1022929</td>\n",
       "      <td>control</td>\n",
       "      <td>0</td>\n",
       "      <td>NaN</td>\n",
       "      <td>spb</td>\n",
       "      <td>social_media</td>\n",
       "    </tr>\n",
       "  </tbody>\n",
       "</table>\n",
       "</div>"
      ],
      "text/plain": [
       "       user_id test_group  created_order_in_3_days     order_sum geo_group  \\\n",
       "39152  1005040    control                        1   5194.269328       msk   \n",
       "19680  1069723       test                        0           NaN       msk   \n",
       "6738   1064653       test                        0           NaN       msk   \n",
       "12480  1063744       test                        1  18940.000000       msk   \n",
       "6626   1022929    control                        0           NaN       spb   \n",
       "\n",
       "      marketing_group  \n",
       "39152   target_direct  \n",
       "19680   target_direct  \n",
       "6738    target_direct  \n",
       "12480         organic  \n",
       "6626     social_media  "
      ]
     },
     "execution_count": 20,
     "metadata": {},
     "output_type": "execute_result"
    }
   ],
   "source": [
    "data.head()"
   ]
  },
  {
   "cell_type": "markdown",
   "metadata": {
    "id": "XEkxp-ulhvat"
   },
   "source": [
    "Снова посчитаем количество заказов и конверсию в обеих группах:"
   ]
  },
  {
   "cell_type": "code",
   "execution_count": 21,
   "metadata": {
    "id": "Y3Cu1iwhhvat",
    "outputId": "2353fa6d-6666-4542-9518-5df1e5455c5c"
   },
   "outputs": [
    {
     "data": {
      "text/html": [
       "<div>\n",
       "<style scoped>\n",
       "    .dataframe tbody tr th:only-of-type {\n",
       "        vertical-align: middle;\n",
       "    }\n",
       "\n",
       "    .dataframe tbody tr th {\n",
       "        vertical-align: top;\n",
       "    }\n",
       "\n",
       "    .dataframe thead th {\n",
       "        text-align: right;\n",
       "    }\n",
       "</style>\n",
       "<table border=\"1\" class=\"dataframe\">\n",
       "  <thead>\n",
       "    <tr style=\"text-align: right;\">\n",
       "      <th></th>\n",
       "      <th>test_group</th>\n",
       "      <th>user_id</th>\n",
       "      <th>created_order_in_3_days</th>\n",
       "      <th>conversion</th>\n",
       "    </tr>\n",
       "  </thead>\n",
       "  <tbody>\n",
       "    <tr>\n",
       "      <th>0</th>\n",
       "      <td>control</td>\n",
       "      <td>5062</td>\n",
       "      <td>1594</td>\n",
       "      <td>31.49</td>\n",
       "    </tr>\n",
       "    <tr>\n",
       "      <th>1</th>\n",
       "      <td>test</td>\n",
       "      <td>4938</td>\n",
       "      <td>1583</td>\n",
       "      <td>32.06</td>\n",
       "    </tr>\n",
       "  </tbody>\n",
       "</table>\n",
       "</div>"
      ],
      "text/plain": [
       "  test_group  user_id  created_order_in_3_days  conversion\n",
       "0    control     5062                     1594       31.49\n",
       "1       test     4938                     1583       32.06"
      ]
     },
     "execution_count": 21,
     "metadata": {},
     "output_type": "execute_result"
    }
   ],
   "source": [
    "metrics = data.groupby('test_group', as_index= False).agg({'user_id': 'count', 'created_order_in_3_days': 'sum'})\n",
    "metrics['conversion'] = round(metrics['created_order_in_3_days']/metrics['user_id']*100, 2)\n",
    "metrics"
   ]
  },
  {
   "cell_type": "markdown",
   "metadata": {
    "id": "gR7yr9gJhvat"
   },
   "source": [
    "Вызовем функцию и построим графики распределения для новых данных:"
   ]
  },
  {
   "cell_type": "code",
   "execution_count": 22,
   "metadata": {
    "id": "i5iG9rQWhvat",
    "outputId": "ad90a601-317a-44b4-b75e-d052b22868fb"
   },
   "outputs": [
    {
     "data": {
      "image/png": "[encoded data removed]",
      "text/plain": [
       "<Figure size 502.5x288 with 1 Axes>"
      ]
     },
     "metadata": {
      "needs_background": "light"
     },
     "output_type": "display_data"
    },
    {
     "data": {
      "image/png": "[encoded data removed]",
      "text/plain": [
       "<Figure size 502.5x288 with 1 Axes>"
      ]
     },
     "metadata": {
      "needs_background": "light"
     },
     "output_type": "display_data"
    }
   ],
   "source": [
    "plot_segments_distribution(data, [\"geo_group\", \"marketing_group\"], \"test_group\")"
   ]
  },
  {
   "cell_type": "markdown",
   "metadata": {
    "id": "DGJ1hm0Ohvau"
   },
   "source": [
    "<div\n",
    "  style=\"\n",
    "    padding: 24px;\n",
    "    background-color: #009ee4;\n",
    "    border-radius: 24px;\n",
    "    color: white;\n",
    "    font-family: Arial;\n",
    "  \"\n",
    ">\n",
    "  <div style=\"font-size: 36px; margin-top: 6px; line-height: 16px; font-weight: bold\">\n",
    "    Результат\n",
    "  <div style=\" font-size: 18px; margin-top: 24px; line-height: 24px\">\n",
    "    Распределение выровнялось — можем продолжить работу с данными.\n",
    "\n",
    "      \n",
    "\n",
    "</div>\n",
    "\n"
   ]
  },
  {
   "cell_type": "markdown",
   "metadata": {
    "id": "-hYhtY3Lhvau"
   },
   "source": [
    "## Используем критерий Хи-квадрат для конверсии\n",
    "\n",
    "Мы поняли, что собранные данные правильно распределены по сегментам. Теперь пришло время оценить, насколько разница в конверсии, которую мы получили на собранных данных, статистически значима. То есть, можем ли мы быть уверены, что разница, которую мы наблюдаем — неслучайная. \n",
    "\n",
    "Для такого анализа используют статистические критерии — они бывают разными для разных данных. \n",
    "\n",
    "Хи-квадрат — критерий, который подходит для оценки конверии, поскольку данные конверсии дискретные: пользователь либо совершил покупку, и мы присвоили ему 1, либо не совершил и мы присвоили ему 0.\n",
    "\n",
    "Функция, которая нам нужна, чтобы использовать хи-квадрат, есть в библиотеке — `statsmodels`. Мы импортируем из нее объект `stats.proportion`, который позволяет считать пропорции. "
   ]
  },
  {
   "cell_type": "code",
   "execution_count": 23,
   "metadata": {
    "id": "iswpHby7hvau"
   },
   "outputs": [],
   "source": [
    "import statsmodels.stats.proportion as proportion"
   ]
  },
  {
   "cell_type": "markdown",
   "metadata": {
    "id": "vXNdWCZphvav"
   },
   "source": [
    "Статистический критерий вернет нам значение **p-value**, которое поможет оценить: есть ли статистическая значимость в разнице конверсий, которую показывает наш эксперимент. \n",
    "\n",
    "### Посчитаем p-value\n",
    "\n",
    "Передаем функции **proportions_chisquare( )** параметры:\n",
    "\n",
    "1. Количество покупок в наших группах — значения колонки `'created_order_in_3_days'`\n",
    "2. Количество наблюдений — всех пользователей из колонки `'user_id'`\n",
    "\n",
    "Так как функция возврщает три значения, мы сразу создадим три переменные через запятую:\n",
    "\n",
    "- `chi2stat` — статистика под капотом критерия\n",
    "- `pval` — интересующее нас значение p-value\n",
    "- `table` — таблица сопряженности: она помогает исследовать связи в распределениях, но в данной задаче она нам не понадобится"
   ]
  },
  {
   "cell_type": "code",
   "execution_count": 24,
   "metadata": {
    "id": "Cievx6Yqhvav"
   },
   "outputs": [],
   "source": [
    "chi2stat, pval, table = proportion.proportions_chisquare(metrics['created_order_in_3_days'], metrics['user_id'])"
   ]
  },
  {
   "cell_type": "code",
   "execution_count": 25,
   "metadata": {},
   "outputs": [
    {
     "data": {
      "text/plain": [
       "(0.37200761009841293,\n",
       " 0.5419119772353784,\n",
       " (array([[1594, 3468],\n",
       "         [1583, 3355]], dtype=int64),\n",
       "  array([[1608.1974, 3453.8026],\n",
       "         [1568.8026, 3369.1974]])))"
      ]
     },
     "execution_count": 25,
     "metadata": {},
     "output_type": "execute_result"
    }
   ],
   "source": [
    "proportion.proportions_chisquare(metrics['created_order_in_3_days'], metrics['user_id'])"
   ]
  },
  {
   "cell_type": "code",
   "execution_count": 53,
   "metadata": {},
   "outputs": [
    {
     "name": "stdout",
     "output_type": "stream",
     "text": [
      "0.5419119772353784\n"
     ]
    }
   ],
   "source": [
    "print(pval)"
   ]
  },
  {
   "cell_type": "markdown",
   "metadata": {
    "id": "QtxmpLWmhvav"
   },
   "source": [
    "Так как ни один статистический критерий не дает 100% уверенности, мы зададим ему порог 5% для ошибки первого рода — то есть согласимся, что 5% наших наблюдений будут ошибочными."
   ]
  },
  {
   "cell_type": "code",
   "execution_count": 54,
   "metadata": {
    "id": "pL7vli0Fhvav"
   },
   "outputs": [],
   "source": [
    "alpha = 0.05"
   ]
  },
  {
   "cell_type": "markdown",
   "metadata": {
    "id": "GIXdXBmyhvaw"
   },
   "source": [
    "`p-value` — это фактическая вероятность попасть в ошибку первого рода на наших данных, если мы отклоним нулевую гипотезу. Давайте **сравним p-value c желаемым уровнем точности нашего эксперимента.** \n",
    "\n",
    "- Если **p-value меньше** порога ошибки первого рода — результат эксперимента можно считать статзначимым\n",
    "- Если **p-value больше** — мы будем вынуждены признать разницу в значениях тестовой и контрольной группы случайной"
   ]
  },
  {
   "cell_type": "code",
   "execution_count": 55,
   "metadata": {
    "id": "xgpqFL7yhvaw",
    "outputId": "b62dbe53-64b6-4e53-e52b-4e4c353c13c8"
   },
   "outputs": [
    {
     "name": "stdout",
     "output_type": "stream",
     "text": [
      "False\n"
     ]
    }
   ],
   "source": [
    "print(pval < alpha)"
   ]
  },
  {
   "cell_type": "markdown",
   "metadata": {
    "id": "tWTQZQU-hvaw"
   },
   "source": [
    "<div\n",
    "  style=\"\n",
    "    padding: 24px;\n",
    "    background-color: #009ee4;\n",
    "    border-radius: 24px;\n",
    "    color: white;\n",
    "    font-family: Arial;\n",
    "  \"\n",
    ">\n",
    "  <div style=\"font-size: 36px; margin-top: 6px; line-height: 16px; font-weight: bold\">\n",
    "    Результат\n",
    "  <div style=\" font-size: 18px; margin-top: 24px; line-height: 24px\">\n",
    "    Статистически значимой разницы в конверсии не обнаружено, так как p-value выше выбранного порога ошибки первого рода\n",
    "\n",
    "      \n",
    "\n",
    "</div>\n",
    "\n"
   ]
  },
  {
   "cell_type": "markdown",
   "metadata": {
    "id": "B8SWTlR_hvax"
   },
   "source": [
    "## Используем Bootstrap для среднего чека\n",
    "\n",
    "Прежде чем делать выводы, проверим, нет ли значимого изменения среднего чека, ведь конверсия и средний чек — метрики, которые тесно связаны: если улучшить одну — другая может стать хуже.\n",
    "\n",
    "Для среднего чека не подходит хи-квадрат, так как эта метрика не дискретная: у среднего чека большой разброс значений на разных пользователей, которые редко распределены нормально. Поэтому т-тест тоже не подходит. \n",
    "\n",
    "Здесь поможет метод **bootstrap.**"
   ]
  },
  {
   "cell_type": "markdown",
   "metadata": {
    "id": "FVzb1GoKhvax"
   },
   "source": [
    "Он уже реализован в библиотеке `bootstrapped` — скачаем ее:"
   ]
  },
  {
   "cell_type": "code",
   "execution_count": 29,
   "metadata": {
    "id": "vsOd5Z-Hhvax",
    "outputId": "0c8330d4-c708-49b1-bc03-5051bd4d2aa9"
   },
   "outputs": [
    {
     "name": "stdout",
     "output_type": "stream",
     "text": [
      "Requirement already satisfied: bootstrapped in c:\\anaconda\\lib\\site-packages (0.0.2)\n",
      "Requirement already satisfied: matplotlib>=1.5.3 in c:\\anaconda\\lib\\site-packages (from bootstrapped) (3.4.3)\n",
      "Requirement already satisfied: numpy>=1.11.1 in c:\\anaconda\\lib\\site-packages (from bootstrapped) (1.20.3)\n",
      "Requirement already satisfied: pandas>=0.18.1 in c:\\anaconda\\lib\\site-packages (from bootstrapped) (1.3.4)\n",
      "Requirement already satisfied: python-dateutil>=2.7 in c:\\anaconda\\lib\\site-packages (from matplotlib>=1.5.3->bootstrapped) (2.8.2)\n",
      "Requirement already satisfied: pyparsing>=2.2.1 in c:\\anaconda\\lib\\site-packages (from matplotlib>=1.5.3->bootstrapped) (3.0.4)\n",
      "Requirement already satisfied: kiwisolver>=1.0.1 in c:\\anaconda\\lib\\site-packages (from matplotlib>=1.5.3->bootstrapped) (1.3.1)\n",
      "Requirement already satisfied: cycler>=0.10 in c:\\anaconda\\lib\\site-packages (from matplotlib>=1.5.3->bootstrapped) (0.10.0)\n",
      "Requirement already satisfied: pillow>=6.2.0 in c:\\anaconda\\lib\\site-packages (from matplotlib>=1.5.3->bootstrapped) (8.4.0)\n",
      "Requirement already satisfied: six in c:\\anaconda\\lib\\site-packages (from cycler>=0.10->matplotlib>=1.5.3->bootstrapped) (1.16.0)\n",
      "Requirement already satisfied: pytz>=2017.3 in c:\\anaconda\\lib\\site-packages (from pandas>=0.18.1->bootstrapped) (2021.3)\n"
     ]
    }
   ],
   "source": [
    "# скачиваем библиотеку с помощью !pip\n",
    "!pip install bootstrapped"
   ]
  },
  {
   "cell_type": "code",
   "execution_count": 30,
   "metadata": {
    "id": "cLVpf3hehvay"
   },
   "outputs": [],
   "source": [
    "# импортируем необходимые модули\n",
    "import bootstrapped.bootstrap as bs\n",
    "import bootstrapped.stats_functions as bs_stats\n",
    "import bootstrapped.compare_functions as bs_compare"
   ]
  },
  {
   "cell_type": "markdown",
   "metadata": {
    "id": "Nxh9-LVhhvay"
   },
   "source": [
    "Нам понадобится функция `bootstrap_ab`. Чтобы подготовить данные, давайте посмотрим, какие аргументы она принимает:"
   ]
  },
  {
   "cell_type": "code",
   "execution_count": 31,
   "metadata": {
    "id": "mZYUYdnOhvay"
   },
   "outputs": [],
   "source": [
    "# посмотрим подсказку, какие аргументы принимает функция\n",
    "\n",
    "??bs.bootstrap_ab"
   ]
  },
  {
   "cell_type": "markdown",
   "metadata": {
    "id": "gzMQuF1vhvaz"
   },
   "source": [
    "Первый аргумент — `test` — массив с данными тестовой группы.\n",
    "\n",
    "Наши данные в датафрейме `data` — не подходят, так как в них тестовая и контрольная группы вместе. Кроме того, есть пользователи без покупок — их не нужно учитывать в подсчете среднего чека. \n",
    "\n",
    "- отделим только тестовых пользователей\n",
    "- удалим пустые значения, то есть пользователей, не сделавших покупку\n",
    "- `.values` превратит серию в массив\n",
    "\n",
    "*Массив — это структура  данных, которая похожа на списки. Но в отличие от них массивы хранят только данные одного типа. Например, только строки или только числовые данные*. "
   ]
  },
  {
   "cell_type": "code",
   "execution_count": 38,
   "metadata": {},
   "outputs": [
    {
     "data": {
      "text/html": [
       "<div>\n",
       "<style scoped>\n",
       "    .dataframe tbody tr th:only-of-type {\n",
       "        vertical-align: middle;\n",
       "    }\n",
       "\n",
       "    .dataframe tbody tr th {\n",
       "        vertical-align: top;\n",
       "    }\n",
       "\n",
       "    .dataframe thead th {\n",
       "        text-align: right;\n",
       "    }\n",
       "</style>\n",
       "<table border=\"1\" class=\"dataframe\">\n",
       "  <thead>\n",
       "    <tr style=\"text-align: right;\">\n",
       "      <th></th>\n",
       "      <th>user_id</th>\n",
       "      <th>test_group</th>\n",
       "      <th>created_order_in_3_days</th>\n",
       "      <th>order_sum</th>\n",
       "      <th>geo_group</th>\n",
       "      <th>marketing_group</th>\n",
       "    </tr>\n",
       "  </thead>\n",
       "  <tbody>\n",
       "    <tr>\n",
       "      <th>39152</th>\n",
       "      <td>1005040</td>\n",
       "      <td>control</td>\n",
       "      <td>1</td>\n",
       "      <td>5194.269328</td>\n",
       "      <td>msk</td>\n",
       "      <td>target_direct</td>\n",
       "    </tr>\n",
       "    <tr>\n",
       "      <th>19680</th>\n",
       "      <td>1069723</td>\n",
       "      <td>test</td>\n",
       "      <td>0</td>\n",
       "      <td>NaN</td>\n",
       "      <td>msk</td>\n",
       "      <td>target_direct</td>\n",
       "    </tr>\n",
       "    <tr>\n",
       "      <th>6738</th>\n",
       "      <td>1064653</td>\n",
       "      <td>test</td>\n",
       "      <td>0</td>\n",
       "      <td>NaN</td>\n",
       "      <td>msk</td>\n",
       "      <td>target_direct</td>\n",
       "    </tr>\n",
       "    <tr>\n",
       "      <th>12480</th>\n",
       "      <td>1063744</td>\n",
       "      <td>test</td>\n",
       "      <td>1</td>\n",
       "      <td>18940.000000</td>\n",
       "      <td>msk</td>\n",
       "      <td>organic</td>\n",
       "    </tr>\n",
       "    <tr>\n",
       "      <th>6626</th>\n",
       "      <td>1022929</td>\n",
       "      <td>control</td>\n",
       "      <td>0</td>\n",
       "      <td>NaN</td>\n",
       "      <td>spb</td>\n",
       "      <td>social_media</td>\n",
       "    </tr>\n",
       "    <tr>\n",
       "      <th>...</th>\n",
       "      <td>...</td>\n",
       "      <td>...</td>\n",
       "      <td>...</td>\n",
       "      <td>...</td>\n",
       "      <td>...</td>\n",
       "      <td>...</td>\n",
       "    </tr>\n",
       "    <tr>\n",
       "      <th>4111</th>\n",
       "      <td>1082083</td>\n",
       "      <td>test</td>\n",
       "      <td>0</td>\n",
       "      <td>NaN</td>\n",
       "      <td>spb</td>\n",
       "      <td>context_brand</td>\n",
       "    </tr>\n",
       "    <tr>\n",
       "      <th>5624</th>\n",
       "      <td>1039489</td>\n",
       "      <td>control</td>\n",
       "      <td>0</td>\n",
       "      <td>NaN</td>\n",
       "      <td>regions</td>\n",
       "      <td>target_direct</td>\n",
       "    </tr>\n",
       "    <tr>\n",
       "      <th>37104</th>\n",
       "      <td>1099234</td>\n",
       "      <td>test</td>\n",
       "      <td>0</td>\n",
       "      <td>NaN</td>\n",
       "      <td>regions</td>\n",
       "      <td>target_direct</td>\n",
       "    </tr>\n",
       "    <tr>\n",
       "      <th>22535</th>\n",
       "      <td>1096948</td>\n",
       "      <td>test</td>\n",
       "      <td>0</td>\n",
       "      <td>NaN</td>\n",
       "      <td>regions</td>\n",
       "      <td>target_direct</td>\n",
       "    </tr>\n",
       "    <tr>\n",
       "      <th>6571</th>\n",
       "      <td>1086271</td>\n",
       "      <td>test</td>\n",
       "      <td>0</td>\n",
       "      <td>NaN</td>\n",
       "      <td>regions</td>\n",
       "      <td>organic</td>\n",
       "    </tr>\n",
       "  </tbody>\n",
       "</table>\n",
       "<p>10000 rows × 6 columns</p>\n",
       "</div>"
      ],
      "text/plain": [
       "       user_id test_group  created_order_in_3_days     order_sum geo_group  \\\n",
       "39152  1005040    control                        1   5194.269328       msk   \n",
       "19680  1069723       test                        0           NaN       msk   \n",
       "6738   1064653       test                        0           NaN       msk   \n",
       "12480  1063744       test                        1  18940.000000       msk   \n",
       "6626   1022929    control                        0           NaN       spb   \n",
       "...        ...        ...                      ...           ...       ...   \n",
       "4111   1082083       test                        0           NaN       spb   \n",
       "5624   1039489    control                        0           NaN   regions   \n",
       "37104  1099234       test                        0           NaN   regions   \n",
       "22535  1096948       test                        0           NaN   regions   \n",
       "6571   1086271       test                        0           NaN   regions   \n",
       "\n",
       "      marketing_group  \n",
       "39152   target_direct  \n",
       "19680   target_direct  \n",
       "6738    target_direct  \n",
       "12480         organic  \n",
       "6626     social_media  \n",
       "...               ...  \n",
       "4111    context_brand  \n",
       "5624    target_direct  \n",
       "37104   target_direct  \n",
       "22535   target_direct  \n",
       "6571          organic  \n",
       "\n",
       "[10000 rows x 6 columns]"
      ]
     },
     "execution_count": 38,
     "metadata": {},
     "output_type": "execute_result"
    }
   ],
   "source": [
    "data"
   ]
  },
  {
   "cell_type": "code",
   "execution_count": 39,
   "metadata": {
    "id": "-hgeEtD4hvaz"
   },
   "outputs": [
    {
     "name": "stdout",
     "output_type": "stream",
     "text": [
      "[18940.         14982.          5384.54399441 ...  4577.\n",
      "  6674.          6085.        ]\n"
     ]
    }
   ],
   "source": [
    "test = data[data['test_group'] == 'test']['order_sum'].dropna().values\n",
    "print(test)"
   ]
  },
  {
   "cell_type": "markdown",
   "metadata": {
    "id": "FZDH_MFjhvaz"
   },
   "source": [
    "Второй аргумент — `ctrl` — массив с данными контрольной группы.\n",
    "\n",
    "- отделим только пользователей из контрольной группы\n",
    "- удалим пустые значения, то есть пользователей, не сделавших покупку\n",
    "- `.values` превратит серию в массив"
   ]
  },
  {
   "cell_type": "code",
   "execution_count": 40,
   "metadata": {
    "id": "pWwJqtCAhva0"
   },
   "outputs": [
    {
     "name": "stdout",
     "output_type": "stream",
     "text": [
      "[5194.26932826 5348.         5715.         ... 6928.         4794.\n",
      " 4919.        ]\n"
     ]
    }
   ],
   "source": [
    "ctrl = data[data['test_group'] == 'control']['order_sum'].dropna().values\n",
    "print(ctrl)"
   ]
  },
  {
   "cell_type": "markdown",
   "metadata": {
    "id": "fWyHsiTchva0"
   },
   "source": [
    "Также нам понадобятся аргументы:\n",
    "\n",
    "\n",
    "- `stat_func = bs_stats.mean` — что мы хотим исследовать. В нашем случае — среднее значение\n",
    "\n",
    "- `compare_func = bs_compare.difference`— как мы хотим исследовать. В нашем случае — хотим взять разницу между группами \n",
    "\n",
    "- `return_distribution = True` — вернем набор разниц, который функция получает в результате всех итераций\n",
    "\n",
    "Чтобы сохранить то, что возвращает функция, запишем результат ее работы в переменную `boot_results`"
   ]
  },
  {
   "cell_type": "code",
   "execution_count": 42,
   "metadata": {
    "id": "D5f8IzGNhva0"
   },
   "outputs": [],
   "source": [
    "boot_results = bs.bootstrap_ab(test = test, ctrl = ctrl\n",
    "                              , stat_func = bs_stats.mean\n",
    "                              , compare_func = bs_compare.difference\n",
    "                              , return_distribution=True)"
   ]
  },
  {
   "cell_type": "markdown",
   "metadata": {
    "id": "AZLZInBghva1"
   },
   "source": [
    "Мы получили массив разниц в средних чеках между нашими группами."
   ]
  },
  {
   "cell_type": "code",
   "execution_count": 43,
   "metadata": {
    "id": "3oxMrMcuhva1",
    "outputId": "2c7d05f0-0831-43e8-810c-30ce01440dd6"
   },
   "outputs": [
    {
     "data": {
      "text/plain": [
       "array([242.6258481 ,  30.50701575, 165.12716426, ..., 394.65992062,\n",
       "       212.66602131, 435.57533521])"
      ]
     },
     "execution_count": 43,
     "metadata": {},
     "output_type": "execute_result"
    }
   ],
   "source": [
    "boot_results"
   ]
  },
  {
   "cell_type": "markdown",
   "metadata": {
    "id": "g5uS_tnChva2"
   },
   "source": [
    "### Доверительный интервал\n",
    "\n",
    "Значение среднего чека, которое мы получили для обеих групп, верно только для тех групп пользователей, которые пришли в течение эксперимента. Если бы в эксперименте участвовали похожие, но другие пользователи — значение среднего чека немного, но отличалось бы. Понять, насколько могут отличаться похожие группы в нашем эксперименте, поможет доверительный интервал.\n",
    "\n",
    "Уровень доверия обычно устанавливают в 95%. То есть можно сказать, что в 95% аналогичных экспериментов конверсия будет колебаться внутри этого интервала. \n",
    "\n",
    "\n",
    "\n",
    "**Зададим границы доверительного интервала от 2,5 до 97,5 — между ними как раз 95%.**\n"
   ]
  },
  {
   "cell_type": "code",
   "execution_count": 44,
   "metadata": {
    "id": "_9LYlQ5jhva2",
    "outputId": "e9a0a966-1b6f-44e9-855d-400e79c1ed70"
   },
   "outputs": [
    {
     "data": {
      "text/plain": [
       "array([-113.61528969,  498.86465209])"
      ]
     },
     "execution_count": 44,
     "metadata": {},
     "output_type": "execute_result"
    }
   ],
   "source": [
    "borders = np.percentile(boot_results, [2.5, 97.5]) # считаем перцентили\n",
    "borders"
   ]
  },
  {
   "cell_type": "markdown",
   "metadata": {
    "id": "7ruvTxcbhva3"
   },
   "source": [
    "Используем полученный выше массив в переменной `boot_results`, чтобы выяснить доверительный интервал — то есть тот интервал колебаний среднего чека похожих экспериментов.\n",
    "\n",
    "Если ноль не входит в доверительный интервал, аналогично условию `p-value < alpha` — разница значима."
   ]
  },
  {
   "cell_type": "code",
   "execution_count": 45,
   "metadata": {
    "id": "yOYpu6DIhva4",
    "outputId": "263e2499-07db-40cd-889c-b4e34336b92b"
   },
   "outputs": [
    {
     "name": "stderr",
     "output_type": "stream",
     "text": [
      "C:\\anaconda\\lib\\site-packages\\seaborn\\distributions.py:2619: FutureWarning: `distplot` is a deprecated function and will be removed in a future version. Please adapt your code to use either `displot` (a figure-level function with similar flexibility) or `histplot` (an axes-level function for histograms).\n",
      "  warnings.warn(msg, FutureWarning)\n"
     ]
    },
    {
     "data": {
      "image/png": "[encoded data removed]",
      "text/plain": [
       "<Figure size 432x288 with 1 Axes>"
      ]
     },
     "metadata": {
      "needs_background": "light"
     },
     "output_type": "display_data"
    }
   ],
   "source": [
    "sns.distplot(boot_results) # функция построения распределения\n",
    "plt.title('Bootstrap-распределение разниц среднего чека')\n",
    "plt.rcParams[\"figure.figsize\"] = (12, 10)\n",
    "plt.vlines(0, # отрисуем линию на уровне ноля\n",
    "           ymin = 0, \n",
    "           ymax = 0.003, \n",
    "           linestyles= '--', \n",
    "           colors = 'red')\n",
    "plt.vlines(borders, # отрисуем перцентили\n",
    "           ymin = 0, \n",
    "           ymax = 0.003, \n",
    "           linestyles= '--', \n",
    "           colors = 'grey', \n",
    "           label = '95%-доверительный интервал')\n",
    "plt.legend()\n",
    "plt.show()"
   ]
  },
  {
   "cell_type": "markdown",
   "metadata": {
    "id": "pn2pP_xVhva5"
   },
   "source": [
    "<div\n",
    "  style=\"\n",
    "    padding: 24px;\n",
    "    background-color: #009ee4;\n",
    "    border-radius: 24px;\n",
    "    color: white;\n",
    "    font-family: Arial;\n",
    "  \"\n",
    ">\n",
    "  <div style=\"font-size: 36px; margin-top: 6px; line-height: 16px; font-weight: bold\">\n",
    "    Результат\n",
    "  <div style=\" font-size: 18px; margin-top: 24px; line-height: 24px\">\n",
    "    Статистически значимой разницы в среднем чеке не обнаружено, так как 0 входит в доверительный интервал разницы между группами\n",
    "\n",
    "      \n",
    "\n",
    "</div>\n",
    "\n"
   ]
  },
  {
   "cell_type": "markdown",
   "metadata": {
    "id": "49CKQzLKhva5"
   },
   "source": [
    "## Вычислим мощность при использовании критерия хи-квадрат\n",
    "\n",
    "**Мощность** — это вероятность увидеть разницу там, где она существует.\n",
    "\n",
    "С помощью хи-квадрата посчитаем вероятность увидеть статистически значимые отличия в нашем эксперименте. \n",
    " \n",
    "У любого статистического критерия есть формула, по которой связаны:\n",
    "\n",
    "- значение метрики — конверсия в каждой группе\n",
    "- размер выборки  — количество наблюдений (nobs)\n",
    "- уровень значимости — вероятность ошибки первого рода\n",
    "- мощность — вероятность заметить изменение, если оно есть\n",
    "\n",
    "Зная три параметра, мы можем вычислить четвертый. Сейчас это — мощность. \n",
    "\n",
    "Импортируем из `statsmodels` объект `stats.power`, в котором есть нужные нам функции:"
   ]
  },
  {
   "cell_type": "code",
   "execution_count": 46,
   "metadata": {
    "id": "Or6HJqIahva6"
   },
   "outputs": [],
   "source": [
    "import statsmodels.stats.power as smp"
   ]
  },
  {
   "cell_type": "markdown",
   "metadata": {
    "id": "T0vT3KGqhva6"
   },
   "source": [
    "Присвоим переменной объект `.GofChisquarePower( )` из этой библиотеки, чтобы к нему было удобнее обращаться.\n",
    "\n",
    "И посмотрим подсказку по нужной нам функции `.solve_power( )`"
   ]
  },
  {
   "cell_type": "code",
   "execution_count": 47,
   "metadata": {
    "id": "rE9wYGMYhva7"
   },
   "outputs": [],
   "source": [
    "# посмотрим подсказку, какие аргументы нам нужно подготовить\n",
    "\n",
    "chipower = smp.GofChisquarePower()\n",
    "??chipower.solve_power"
   ]
  },
  {
   "cell_type": "markdown",
   "metadata": {
    "id": "8lLVBJJ1hva7"
   },
   "source": [
    "Подготовим данные для аргументов:"
   ]
  },
  {
   "cell_type": "code",
   "execution_count": 48,
   "metadata": {
    "id": "wR7JnsEUhva7"
   },
   "outputs": [],
   "source": [
    "#конверсия в контрольной группе\n",
    "conversion_control = metrics['conversion'].values[0]/100 \n",
    "\n",
    "#конверсия в тестовой группе\n",
    "conversion_test = metrics['conversion'].values[1]/100\n",
    "\n",
    "# в столбце 2 значения: кол-во наблюдений для каждой группы — возьмем то, что меньше\n",
    "nobs = min(metrics['user_id'])"
   ]
  },
  {
   "cell_type": "markdown",
   "metadata": {
    "id": "wf7zygolhva8"
   },
   "source": [
    "`effect_size` — это особая разница в коэффициентах конверсии в двух группах. То есть то, на сколько одна группа эффективнее другой в исследуемой метрике. Это не просто разность между итоговым значением двух групп. Вычисляем так: \n",
    "\n",
    "$$ES = \\sqrt{(p_0 - p_1)^2/p_o}$$\n",
    "\n",
    ", где под $p_0$ можно понимать конверсию в контрольной группе, а $p_1$ — в тестовой\n",
    "\n",
    "**Перенесем эту формулу в функцию:**"
   ]
  },
  {
   "cell_type": "code",
   "execution_count": 49,
   "metadata": {
    "id": "G5614_3ohva8",
    "outputId": "2a576c2d-1b45-42f4-dac8-467fe1881b05"
   },
   "outputs": [],
   "source": [
    "def chi2_effect_size(p0, p1):\n",
    "    return np.sqrt(((p0 - p1)**2 / p0))"
   ]
  },
  {
   "cell_type": "markdown",
   "metadata": {
    "id": "TQ3OJn7ghva8"
   },
   "source": [
    "Вызовем нашу функцию и передадим ей все аргументы. Искомому значению мы присваиваем `None` — функция вернет именно это значение.\n",
    "\n",
    "Здесь мы присвоим `alpha = pval`, то есть значение p-value для наших данных. Мы хотим посмотреть фактическую мощность, которую получили — поэтому передаем не желаемое, а реальное значение вероятности ошибки первого рода."
   ]
  },
  {
   "cell_type": "code",
   "execution_count": 50,
   "metadata": {
    "id": "wUWnpuHfhva8",
    "outputId": "10335e3d-ceb2-4d77-fcf7-4218d799ddfc"
   },
   "outputs": [
    {
     "data": {
      "text/plain": [
       "0.6341586062119811"
      ]
     },
     "execution_count": 50,
     "metadata": {},
     "output_type": "execute_result"
    }
   ],
   "source": [
    "chipower.solve_power(effect_size = chi2_effect_size(conversion_control, conversion_test), # разница коэффициентов конверсии\n",
    "                                               nobs = nobs, # размер выборки\n",
    "                                               alpha = pval, # значение ошибки первого рода на наших данных\n",
    "                                               power = None) # функция вернет значение, указаное как None"
   ]
  },
  {
   "cell_type": "markdown",
   "metadata": {
    "id": "vGlZ8CCshva9"
   },
   "source": [
    "<body>\n",
    "  <div style=\"padding: 24px; background-color: #ff7775; border-radius: 24px\">\n",
    "    <img\n",
    "      style=\"width: 56px; height: 56px; float: left\"\n",
    "      src=\"data:image/png;base64,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\"\n",
    "    />\n",
    "    <div\n",
    "      style=\"\n",
    "        font-size: 18px;\n",
    "        line-height: 26px;\n",
    "        font-family: Arial;\n",
    "        color: white;\n",
    "        margin-left: 84px;\n",
    "      \"\n",
    "    >\n",
    "      Мощность достаточно низкая: с вероятностью более, чем 36% мы бы не увидели статистически значимых отличий там, где они существуют.      <div>Стандартное значение мощности — 80% и выше</div>\n",
    "    \n",
    "   </div>\n",
    "  </div>\n",
    "</body>\n",
    "\n",
    "\n"
   ]
  },
  {
   "cell_type": "markdown",
   "metadata": {
    "id": "Aaerlam3hva9"
   },
   "source": [
    "## Вычислим количество наблюдений, чтобы получить желаемый уровень мощности\n",
    "\n",
    "Для этого используем ту же функцию, но оставляем неизвестным аргумент  `nobs`. \n",
    "\n",
    "Здесь мы уже передаем в `alpha = alpha`, которое задали, как 0,05. То есть 5%, так как хотим узнать желаемое количество наблюдений."
   ]
  },
  {
   "cell_type": "code",
   "execution_count": 51,
   "metadata": {
    "id": "TA6TZW7Yhva-"
   },
   "outputs": [],
   "source": [
    "power = 0.8 # хотим мощность не меньше 80%"
   ]
  },
  {
   "cell_type": "code",
   "execution_count": 52,
   "metadata": {
    "id": "YFYcbXhmhva-"
   },
   "outputs": [
    {
     "name": "stdout",
     "output_type": "stream",
     "text": [
      "Необходимый размер выборки для эксперимента - 152146\n"
     ]
    }
   ],
   "source": [
    "size_of_each_test_group = chipower.solve_power(effect_size = chi2_effect_size(conversion_control, conversion_test), \n",
    "                                               nobs = None, \n",
    "                                               alpha = alpha, \n",
    "                                               power = power) \n",
    "print('Необходимый размер выборки для эксперимента - {:.0f}'.format(2*size_of_each_test_group))"
   ]
  },
  {
   "cell_type": "markdown",
   "metadata": {
    "id": "UYIsMc99hva_"
   },
   "source": [
    "<div\n",
    "  style=\"\n",
    "    padding: 24px;\n",
    "    background-color: #009ee4;\n",
    "    border-radius: 24px;\n",
    "    color: white;\n",
    "    font-family: Arial;\n",
    "  \"\n",
    ">\n",
    "  <div style=\"font-size: 32px; line-height: 32px; font-weight: bold\">\n",
    "    Решение\n",
    "  </div>\n",
    "\n",
    "  <div style=\"margin-top: 16px; font-size: 18px; line-height: 24px\">\n",
    "    Продолжить набор данных в течение двух недель, дождаться закрытия конверсионного окна в три дня и подвести итоги эксперимента.\n",
    "   \n",
    "  </div>\n",
    "</div>\n",
    "\n",
    "\n"
   ]
  }
 ],
 "metadata": {
  "colab": {
   "name": "Skills_Python_4.1_lesson.ipynb",
   "provenance": []
  },
  "kernelspec": {
   "display_name": "Python 3 (ipykernel)",
   "language": "python",
   "name": "python3"
  },
  "language_info": {
   "codemirror_mode": {
    "name": "ipython",
    "version": 3
   },
   "file_extension": ".py",
   "mimetype": "text/x-python",
   "name": "python",
   "nbconvert_exporter": "python",
   "pygments_lexer": "ipython3",
   "version": "3.9.7"
  }
 },
 "nbformat": 4,
 "nbformat_minor": 1
}
