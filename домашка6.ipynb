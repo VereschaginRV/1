{
 "cells": [
  {
   "cell_type": "markdown",
   "metadata": {
    "id": "ztPv6Kb-ILDp"
   },
   "source": [
    "# Домашнее задание 4.1\n",
    "\n",
    "# 🥨👨🏻‍🍳🥐🥖\n",
    "\n",
    "Тест с картинками оказался в итоге успешным, и теперь мы хотим усилить визуальный контент. Есть идея, что если мы сделаем не одну картинку, а еще и добавим видео производства наших изделий, то пользователь будет принимать решение о покупке охотнее и быстрее, и конверсия в заказ вырастет. \n",
    "\n",
    "__Продакт вернул нам такой дизайн эксперимента:__\n",
    "\n",
    "*1. `Бизнес-проблема:`* мы считаем, что конверсии из визита в покупку в нашем магазине недостаточно высоки. Мы посмотрели на страницы конкурентов и поняли, что у нас есть возможность увеличить объем продаж, если мы еще немного изменим дизайн страницы с каталогом продукции. \n",
    "\n",
    "*2. `Гипотеза:`* предполагается, что добавление видео с процессом приготовления вкусностей мотивирует к их покупке и позволяет добиться двух эффектов:\n",
    "   * повышение конверсии из визита в оплату (больше людей захотят купить нашу продукцию)\n",
    "   * как минимум, не снижение среднего чека покупки, а в идеале — увеличение\n",
    "    \n",
    "*3. `Ожидаемые действия пользователей:`* мы ожидаем, что, увидев видео с процессом приготовления вкусностей вместе с описанием продукции, больше людей захотят сделать покупку, а возможно — в среднем будут покупать больше продукции в одном заказе.\n",
    "\n",
    "*4. `Эксперимент будет считаться успешным, если:`*\n",
    "   * конверсия из визита в покупку с окном в 7 дней повысится\n",
    "   * средний чек покупки не снизится\n",
    "\n",
    "\n",
    "## Что нужно сделать?\n",
    "\n",
    "Проанализировать данные нового теста и дать свои комментарии о его успешности. Можно ли выкатывать изменение на всех пользователей?\n",
    "\n",
    "1. Выбрать окно конверсии\n",
    "2. Исследовать распределение пользователей по группам по основным сегментам\n",
    "3. Оценить статистическую значимость в изменении конверсии с помощью критерия хи-квадрат\n",
    "4. Вычислить мощность теста\n",
    "5. Использовать бутстрап для оценки влияния теста на средний чек\n",
    "6. Сделать вывод по результатам проведенного теста "
   ]
  },
  {
   "cell_type": "markdown",
   "metadata": {
    "id": "hppSG_9JbL0s"
   },
   "source": [
    "## Задание 1. Выбери окно конверсии, используя исторические данные \n",
    "\n",
    "**1. Прочитай файл investigate_window.csv.**\n",
    "   - Запиши даннные в переменную `historical_data`\n",
    "    \n",
    "   - Отправь безымянную колонку с нумерацией в индекс с помощью аргумента функции `read_csv()`.\n",
    "   \n",
    "   - Проверь, какой тип данных в каждой колонке, и переведи столбцы с датами в формат даты. "
   ]
  },
  {
   "cell_type": "code",
   "execution_count": 1,
   "metadata": {
    "id": "bZRgs094bL0v"
   },
   "outputs": [],
   "source": [
    "import pandas as pd"
   ]
  },
  {
   "cell_type": "code",
   "execution_count": 2,
   "metadata": {
    "id": "Sk2xONPmbL0x"
   },
   "outputs": [],
   "source": [
    "historical_data = pd.read_csv('investigate_window.csv',parse_dates = [2,3], index_col = 0)\n",
    "#импортирую данные и перевожу в формат даты нужные столбцы"
   ]
  },
  {
   "cell_type": "code",
   "execution_count": 3,
   "metadata": {
    "id": "dS3UJGDhbL0x",
    "outputId": "4d8207fa-32d3-44f3-de6f-072b393742b4"
   },
   "outputs": [
    {
     "data": {
      "text/html": [
       "<div>\n",
       "<style scoped>\n",
       "    .dataframe tbody tr th:only-of-type {\n",
       "        vertical-align: middle;\n",
       "    }\n",
       "\n",
       "    .dataframe tbody tr th {\n",
       "        vertical-align: top;\n",
       "    }\n",
       "\n",
       "    .dataframe thead th {\n",
       "        text-align: right;\n",
       "    }\n",
       "</style>\n",
       "<table border=\"1\" class=\"dataframe\">\n",
       "  <thead>\n",
       "    <tr style=\"text-align: right;\">\n",
       "      <th></th>\n",
       "      <th>user_id</th>\n",
       "      <th>main_page_viewed_at</th>\n",
       "      <th>order_completed_at</th>\n",
       "      <th>time_to_order</th>\n",
       "    </tr>\n",
       "  </thead>\n",
       "  <tbody>\n",
       "    <tr>\n",
       "      <th>0</th>\n",
       "      <td>959238</td>\n",
       "      <td>2020-11-20 23:55:02.759000+00:00</td>\n",
       "      <td>2020-11-30 02:22:32.759000+00:00</td>\n",
       "      <td>9.102431</td>\n",
       "    </tr>\n",
       "    <tr>\n",
       "      <th>1</th>\n",
       "      <td>337366</td>\n",
       "      <td>2020-12-05 23:41:42.244000+00:00</td>\n",
       "      <td>2020-12-12 22:25:52.244000+00:00</td>\n",
       "      <td>6.947338</td>\n",
       "    </tr>\n",
       "    <tr>\n",
       "      <th>2</th>\n",
       "      <td>259956</td>\n",
       "      <td>2020-11-20 23:33:53.269000+00:00</td>\n",
       "      <td>2020-11-25 13:08:03.269000+00:00</td>\n",
       "      <td>4.565394</td>\n",
       "    </tr>\n",
       "    <tr>\n",
       "      <th>3</th>\n",
       "      <td>534280</td>\n",
       "      <td>2020-11-28 23:44:56.556000+00:00</td>\n",
       "      <td>2020-12-05 10:14:06.556000+00:00</td>\n",
       "      <td>6.436921</td>\n",
       "    </tr>\n",
       "    <tr>\n",
       "      <th>4</th>\n",
       "      <td>795121</td>\n",
       "      <td>2020-11-18 23:59:56.236000+00:00</td>\n",
       "      <td>2020-11-27 02:38:16.236000+00:00</td>\n",
       "      <td>8.109954</td>\n",
       "    </tr>\n",
       "  </tbody>\n",
       "</table>\n",
       "</div>"
      ],
      "text/plain": [
       "   user_id              main_page_viewed_at               order_completed_at  \\\n",
       "0   959238 2020-11-20 23:55:02.759000+00:00 2020-11-30 02:22:32.759000+00:00   \n",
       "1   337366 2020-12-05 23:41:42.244000+00:00 2020-12-12 22:25:52.244000+00:00   \n",
       "2   259956 2020-11-20 23:33:53.269000+00:00 2020-11-25 13:08:03.269000+00:00   \n",
       "3   534280 2020-11-28 23:44:56.556000+00:00 2020-12-05 10:14:06.556000+00:00   \n",
       "4   795121 2020-11-18 23:59:56.236000+00:00 2020-11-27 02:38:16.236000+00:00   \n",
       "\n",
       "   time_to_order  \n",
       "0       9.102431  \n",
       "1       6.947338  \n",
       "2       4.565394  \n",
       "3       6.436921  \n",
       "4       8.109954  "
      ]
     },
     "execution_count": 3,
     "metadata": {},
     "output_type": "execute_result"
    }
   ],
   "source": [
    "historical_data.head()"
   ]
  },
  {
   "cell_type": "code",
   "execution_count": 4,
   "metadata": {
    "id": "Xef2_8M4bL0z",
    "outputId": "e7204528-c53d-4ddc-8149-27040c3f23ed"
   },
   "outputs": [
    {
     "data": {
      "text/plain": [
       "user_id                              int64\n",
       "main_page_viewed_at    datetime64[ns, UTC]\n",
       "order_completed_at     datetime64[ns, UTC]\n",
       "time_to_order                      float64\n",
       "dtype: object"
      ]
     },
     "execution_count": 4,
     "metadata": {},
     "output_type": "execute_result"
    }
   ],
   "source": [
    "# Проверь, выводятся ли даты в формате datetime. Если нет — исправь это. \n",
    "\n",
    "historical_data.dtypes"
   ]
  },
  {
   "cell_type": "markdown",
   "metadata": {
    "id": "olR8gTUvbL00"
   },
   "source": [
    "**2. Вычисли 95, 90 и 85 перцентили для наших данных с помощью колонки time_to_order.**\n",
    "   - Импортируй библиотеку `NumPy` и используй функцию перцентиля из нее.\n",
    "   - Какой перцентиль соответствует недельному окну конверсии? \n",
    "   - Запиши это значение в отдельную переменную `perc_X`, где Х — это выбранный тобой процент, а значение переменной – значение перцентиля, т. е. количество дней, которое избирается в качестве окна конверсии. \n",
    "   - Округли значение до 1 знака после запятой."
   ]
  },
  {
   "cell_type": "code",
   "execution_count": 5,
   "metadata": {
    "id": "5uiFILNtbL01"
   },
   "outputs": [],
   "source": [
    "import numpy as np"
   ]
  },
  {
   "cell_type": "code",
   "execution_count": 6,
   "metadata": {},
   "outputs": [
    {
     "data": {
      "text/plain": [
       "7.117476851851854"
      ]
     },
     "execution_count": 6,
     "metadata": {},
     "output_type": "execute_result"
    }
   ],
   "source": [
    "np.percentile(historical_data['time_to_order'], 95) # 95 перцентиль - значение для всей выборки"
   ]
  },
  {
   "cell_type": "code",
   "execution_count": 7,
   "metadata": {},
   "outputs": [
    {
     "data": {
      "text/plain": [
       "2.864949845679016"
      ]
     },
     "execution_count": 7,
     "metadata": {},
     "output_type": "execute_result"
    }
   ],
   "source": [
    "np.percentile(historical_data['time_to_order'], 90)"
   ]
  },
  {
   "cell_type": "code",
   "execution_count": 8,
   "metadata": {},
   "outputs": [
    {
     "data": {
      "text/plain": [
       "1.9903886959876524"
      ]
     },
     "execution_count": 8,
     "metadata": {},
     "output_type": "execute_result"
    }
   ],
   "source": [
    "np.percentile(historical_data['time_to_order'], 85)"
   ]
  },
  {
   "cell_type": "code",
   "execution_count": 9,
   "metadata": {},
   "outputs": [],
   "source": [
    "perc_X=round(np.percentile(historical_data['time_to_order'], 95),1)"
   ]
  },
  {
   "cell_type": "markdown",
   "metadata": {
    "id": "SRawyRWsbL02"
   },
   "source": [
    "**3. Построй гистограмму распределения времени между первым заходом на сайт и покупкой.** \n",
    "   - Передай функции графика в аргумент данные о времени конверсии\n",
    "   - Назови график и оси\n",
    "   - Вертикальной пунктирной линией отметь значение выбранного тобой перцентиля. \n",
    "   - Выведи значение перцентиля в легенду. \n",
    "*Можешь использовать `seaborn` или `matplotlib`, как тебе удобнее.*"
   ]
  },
  {
   "cell_type": "code",
   "execution_count": 10,
   "metadata": {
    "id": "z0Ie-hfKbL02"
   },
   "outputs": [],
   "source": [
    "import seaborn as sns \n",
    "import matplotlib.pyplot as plt"
   ]
  },
  {
   "cell_type": "code",
   "execution_count": 11,
   "metadata": {
    "id": "UMNd1kw3bL03"
   },
   "outputs": [
    {
     "name": "stderr",
     "output_type": "stream",
     "text": [
      "C:\\anaconda\\lib\\site-packages\\seaborn\\distributions.py:2619: FutureWarning: `distplot` is a deprecated function and will be removed in a future version. Please adapt your code to use either `displot` (a figure-level function with similar flexibility) or `histplot` (an axes-level function for histograms).\n",
      "  warnings.warn(msg, FutureWarning)\n"
     ]
    },
    {
     "data": {
      "image/png": "[encoded data removed]",
      "text/plain": [
       "<Figure size 1152x648 with 1 Axes>"
      ]
     },
     "metadata": {
      "needs_background": "light"
     },
     "output_type": "display_data"
    }
   ],
   "source": [
    "plt.figure(figsize=(16,9))\n",
    "sns.distplot(historical_data['time_to_order'])\n",
    "plt.vlines(perc_X, ymin = 0, ymax = 1.0, linestyles = 'dashed', label = f'95-ый перцентиль – {perc_X} дней')\n",
    "plt.title('Распределение времени между первым заходом на сайт и покупкой')\n",
    "plt.xlabel('Количество дней')\n",
    "plt.ylabel('Количество пользователей')\n",
    "plt.legend()\n",
    "plt.show()"
   ]
  },
  {
   "cell_type": "markdown",
   "metadata": {
    "id": "3nsIxdYObL03"
   },
   "source": [
    "## Задание 2. Исследуй распределение пользователей по группам по основным сегментам \n",
    "\n",
    "**1. Прочитай файл bakery_ab_test.csv.**\n",
    "   - Проверь, импортированы ли нужные тебе библиотеки.\n",
    "   - Запиши данные в переменную `data`. \n",
    "   - Назначь индекс аналогично первому заданию."
   ]
  },
  {
   "cell_type": "code",
   "execution_count": 12,
   "metadata": {
    "id": "-l6Y90j6bL03"
   },
   "outputs": [
    {
     "data": {
      "text/html": [
       "<div>\n",
       "<style scoped>\n",
       "    .dataframe tbody tr th:only-of-type {\n",
       "        vertical-align: middle;\n",
       "    }\n",
       "\n",
       "    .dataframe tbody tr th {\n",
       "        vertical-align: top;\n",
       "    }\n",
       "\n",
       "    .dataframe thead th {\n",
       "        text-align: right;\n",
       "    }\n",
       "</style>\n",
       "<table border=\"1\" class=\"dataframe\">\n",
       "  <thead>\n",
       "    <tr style=\"text-align: right;\">\n",
       "      <th></th>\n",
       "      <th>user_id</th>\n",
       "      <th>test_group</th>\n",
       "      <th>purchase_amount</th>\n",
       "      <th>geo_group</th>\n",
       "      <th>acquisition_channel</th>\n",
       "      <th>within_window</th>\n",
       "      <th>platform</th>\n",
       "    </tr>\n",
       "  </thead>\n",
       "  <tbody>\n",
       "    <tr>\n",
       "      <th>1</th>\n",
       "      <td>3738</td>\n",
       "      <td>test</td>\n",
       "      <td>306.639511</td>\n",
       "      <td>regions</td>\n",
       "      <td>target_direct</td>\n",
       "      <td>1</td>\n",
       "      <td>pc</td>\n",
       "    </tr>\n",
       "    <tr>\n",
       "      <th>2</th>\n",
       "      <td>3755</td>\n",
       "      <td>control</td>\n",
       "      <td>NaN</td>\n",
       "      <td>regions</td>\n",
       "      <td>target_direct</td>\n",
       "      <td>0</td>\n",
       "      <td>pc</td>\n",
       "    </tr>\n",
       "    <tr>\n",
       "      <th>3</th>\n",
       "      <td>3772</td>\n",
       "      <td>test</td>\n",
       "      <td>NaN</td>\n",
       "      <td>regions</td>\n",
       "      <td>context_brand</td>\n",
       "      <td>0</td>\n",
       "      <td>mobile</td>\n",
       "    </tr>\n",
       "    <tr>\n",
       "      <th>4</th>\n",
       "      <td>3789</td>\n",
       "      <td>control</td>\n",
       "      <td>NaN</td>\n",
       "      <td>spb</td>\n",
       "      <td>target_direct</td>\n",
       "      <td>0</td>\n",
       "      <td>pc</td>\n",
       "    </tr>\n",
       "    <tr>\n",
       "      <th>5</th>\n",
       "      <td>3806</td>\n",
       "      <td>test</td>\n",
       "      <td>NaN</td>\n",
       "      <td>regions</td>\n",
       "      <td>social_media</td>\n",
       "      <td>0</td>\n",
       "      <td>pc</td>\n",
       "    </tr>\n",
       "    <tr>\n",
       "      <th>...</th>\n",
       "      <td>...</td>\n",
       "      <td>...</td>\n",
       "      <td>...</td>\n",
       "      <td>...</td>\n",
       "      <td>...</td>\n",
       "      <td>...</td>\n",
       "      <td>...</td>\n",
       "    </tr>\n",
       "    <tr>\n",
       "      <th>152995</th>\n",
       "      <td>2604636</td>\n",
       "      <td>test</td>\n",
       "      <td>NaN</td>\n",
       "      <td>regions</td>\n",
       "      <td>target_direct</td>\n",
       "      <td>0</td>\n",
       "      <td>pc</td>\n",
       "    </tr>\n",
       "    <tr>\n",
       "      <th>152996</th>\n",
       "      <td>2604653</td>\n",
       "      <td>control</td>\n",
       "      <td>5236.818309</td>\n",
       "      <td>regions</td>\n",
       "      <td>organic</td>\n",
       "      <td>1</td>\n",
       "      <td>mobile</td>\n",
       "    </tr>\n",
       "    <tr>\n",
       "      <th>152997</th>\n",
       "      <td>2604670</td>\n",
       "      <td>control</td>\n",
       "      <td>NaN</td>\n",
       "      <td>regions</td>\n",
       "      <td>target_direct</td>\n",
       "      <td>0</td>\n",
       "      <td>pc</td>\n",
       "    </tr>\n",
       "    <tr>\n",
       "      <th>152998</th>\n",
       "      <td>2604687</td>\n",
       "      <td>control</td>\n",
       "      <td>101.783032</td>\n",
       "      <td>regions</td>\n",
       "      <td>target_direct</td>\n",
       "      <td>1</td>\n",
       "      <td>pc</td>\n",
       "    </tr>\n",
       "    <tr>\n",
       "      <th>152999</th>\n",
       "      <td>2604704</td>\n",
       "      <td>test</td>\n",
       "      <td>NaN</td>\n",
       "      <td>msk</td>\n",
       "      <td>social_media</td>\n",
       "      <td>0</td>\n",
       "      <td>pc</td>\n",
       "    </tr>\n",
       "  </tbody>\n",
       "</table>\n",
       "<p>150483 rows × 7 columns</p>\n",
       "</div>"
      ],
      "text/plain": [
       "        user_id test_group  purchase_amount geo_group acquisition_channel  \\\n",
       "1          3738       test       306.639511   regions       target_direct   \n",
       "2          3755    control              NaN   regions       target_direct   \n",
       "3          3772       test              NaN   regions       context_brand   \n",
       "4          3789    control              NaN       spb       target_direct   \n",
       "5          3806       test              NaN   regions        social_media   \n",
       "...         ...        ...              ...       ...                 ...   \n",
       "152995  2604636       test              NaN   regions       target_direct   \n",
       "152996  2604653    control      5236.818309   regions             organic   \n",
       "152997  2604670    control              NaN   regions       target_direct   \n",
       "152998  2604687    control       101.783032   regions       target_direct   \n",
       "152999  2604704       test              NaN       msk        social_media   \n",
       "\n",
       "        within_window platform  \n",
       "1                   1       pc  \n",
       "2                   0       pc  \n",
       "3                   0   mobile  \n",
       "4                   0       pc  \n",
       "5                   0       pc  \n",
       "...               ...      ...  \n",
       "152995              0       pc  \n",
       "152996              1   mobile  \n",
       "152997              0       pc  \n",
       "152998              1       pc  \n",
       "152999              0       pc  \n",
       "\n",
       "[150483 rows x 7 columns]"
      ]
     },
     "execution_count": 12,
     "metadata": {},
     "output_type": "execute_result"
    }
   ],
   "source": [
    "data = pd.read_csv('bakery_ab_test.csv', index_col = 0)\n",
    "data"
   ]
  },
  {
   "cell_type": "code",
   "execution_count": 13,
   "metadata": {},
   "outputs": [
    {
     "data": {
      "text/plain": [
       "user_id                  int64\n",
       "test_group              object\n",
       "purchase_amount        float64\n",
       "geo_group               object\n",
       "acquisition_channel     object\n",
       "within_window            int64\n",
       "platform                object\n",
       "dtype: object"
      ]
     },
     "execution_count": 13,
     "metadata": {},
     "output_type": "execute_result"
    }
   ],
   "source": [
    "data.dtypes"
   ]
  },
  {
   "cell_type": "markdown",
   "metadata": {
    "id": "BySl6id7bL04"
   },
   "source": [
    "**2. Напиши функцию plot_segment_distribution, чтобы проверить распределение пользователей по сегментам внутри каждой группы.**\n",
    "   - Аргументами функции должны быть данные теста, колонки с сегментами (маркетинг, гео и платформа), тест-фактор.\n",
    "   - Для каждого сегмента в функции агрегируй данные, посчитав по для каждой группы и сегмента количество пользователей.\n",
    "   - Сбрость индекс.\n",
    "   - Добавь в функцию построение столбиковой диаграммы (bar chart)."
   ]
  },
  {
   "cell_type": "code",
   "execution_count": 14,
   "metadata": {
    "id": "XJowVpQjbL04"
   },
   "outputs": [
    {
     "data": {
      "text/html": [
       "<div>\n",
       "<style scoped>\n",
       "    .dataframe tbody tr th:only-of-type {\n",
       "        vertical-align: middle;\n",
       "    }\n",
       "\n",
       "    .dataframe tbody tr th {\n",
       "        vertical-align: top;\n",
       "    }\n",
       "\n",
       "    .dataframe thead th {\n",
       "        text-align: right;\n",
       "    }\n",
       "</style>\n",
       "<table border=\"1\" class=\"dataframe\">\n",
       "  <thead>\n",
       "    <tr style=\"text-align: right;\">\n",
       "      <th></th>\n",
       "      <th>test_group</th>\n",
       "      <th>user_id</th>\n",
       "      <th>within_window</th>\n",
       "      <th>conversion</th>\n",
       "    </tr>\n",
       "  </thead>\n",
       "  <tbody>\n",
       "    <tr>\n",
       "      <th>0</th>\n",
       "      <td>control</td>\n",
       "      <td>75210</td>\n",
       "      <td>22998</td>\n",
       "      <td>30.58</td>\n",
       "    </tr>\n",
       "    <tr>\n",
       "      <th>1</th>\n",
       "      <td>test</td>\n",
       "      <td>75273</td>\n",
       "      <td>24427</td>\n",
       "      <td>32.45</td>\n",
       "    </tr>\n",
       "  </tbody>\n",
       "</table>\n",
       "</div>"
      ],
      "text/plain": [
       "  test_group  user_id  within_window  conversion\n",
       "0    control    75210          22998       30.58\n",
       "1       test    75273          24427       32.45"
      ]
     },
     "execution_count": 14,
     "metadata": {},
     "output_type": "execute_result"
    }
   ],
   "source": [
    "metrics = data.groupby('test_group', as_index= False).agg({'user_id': 'count', 'within_window': 'sum'})\n",
    "metrics['conversion'] = round(metrics['within_window']/metrics['user_id']*100, 2)\n",
    "metrics"
   ]
  },
  {
   "cell_type": "code",
   "execution_count": 15,
   "metadata": {},
   "outputs": [],
   "source": [
    "import seaborn as sns"
   ]
  },
  {
   "cell_type": "code",
   "execution_count": 16,
   "metadata": {},
   "outputs": [],
   "source": [
    "def plot_segments_distribution(df, segment_columns, test_factor):\n",
    "    for segment in segment_columns:\n",
    "        aggregated_data = df.groupby(by = [test_factor, segment])['user_id'].count().reset_index()\n",
    "        sns.catplot(x = segment, \n",
    "                    y = 'user_id', \n",
    "                    hue = test_factor, # сообщаем, что хотим, чтобы разные группы имели разный цвет\n",
    "                    data = aggregated_data, \n",
    "                    kind = \"bar\", \n",
    "                    height = 4, # задаем размер графика \n",
    "                    aspect = 1.5) # задаем ширину столбца"
   ]
  },
  {
   "cell_type": "code",
   "execution_count": null,
   "metadata": {},
   "outputs": [],
   "source": []
  },
  {
   "cell_type": "markdown",
   "metadata": {
    "id": "_miaIvPmbL05"
   },
   "source": [
    "**3. Вызови функцию и посмотри на графики. Какой вывод о качестве сплитования ты можешь сделать?**\n",
    "    — Передай списком столбцы, в которых обозначены сегменты пользователей, и отдельно столбец с тест-фактором."
   ]
  },
  {
   "cell_type": "code",
   "execution_count": 17,
   "metadata": {
    "id": "0e90OJ0YbL05"
   },
   "outputs": [
    {
     "data": {
      "image/png": "[encoded data removed]",
      "text/plain": [
       "<Figure size 502.5x288 with 1 Axes>"
      ]
     },
     "metadata": {
      "needs_background": "light"
     },
     "output_type": "display_data"
    },
    {
     "data": {
      "image/png": "[encoded data removed]",
      "text/plain": [
       "<Figure size 502.5x288 with 1 Axes>"
      ]
     },
     "metadata": {
      "needs_background": "light"
     },
     "output_type": "display_data"
    },
    {
     "data": {
      "image/png": "[encoded data removed]",
      "text/plain": [
       "<Figure size 502.5x288 with 1 Axes>"
      ]
     },
     "metadata": {
      "needs_background": "light"
     },
     "output_type": "display_data"
    }
   ],
   "source": [
    "plot_segments_distribution(data, #датафрейм\n",
    "                           [\"geo_group\", \"acquisition_channel\",\"platform\"], #сегменты\n",
    "                           \"test_group\") #тест-фактор"
   ]
  },
  {
   "cell_type": "markdown",
   "metadata": {
    "id": "8jAA6GdHbL05"
   },
   "source": [
    "## Задание 3. Используй критерий Хи-квадрат для конверсии\n"
   ]
  },
  {
   "cell_type": "markdown",
   "metadata": {
    "id": "ixJWxL_JbL06"
   },
   "source": [
    "В прошлом задании ты, скорее всего, столкнулся с неравномерным распределением пользователей. Раньше мы просто перезапускали тест, чтобы собрать данные, но сейчас тест уже завершен, так что нам нужно анализировать те данные, которые есть. Мы не можем исправить данные, но можем проанализировать общие результаты и сравнить их с результатами для пользователей, зашедших с разных платформ, чтобы уменьшить риск принятия ошибочного решения. Поэтому дальше мы будем анализировать параллельно 3 теста:\n",
    "\n",
    "1. Все пользователи, попавшие в тест\n",
    "2. Пользователи, заходившие с ПК `platform = 'pc'`\n",
    "3. Пользователи, заходившие с мобильного `platform = 'mobile'`"
   ]
  },
  {
   "cell_type": "markdown",
   "metadata": {
    "id": "x2DlXIbDbL07"
   },
   "source": [
    "**Создай для каждой из 3 групп теста отдельную таблицу с метриками**\n",
    "   - общее количество пользователей \n",
    "   - количество покупок в окне конверсии\n",
    "   - средняя сумма покупки \n",
    "   - конверсия (количество покупок в окне конверсии / общее количество пользователей или среднее по полю `within_window`)\n",
    "    \n",
    "*Для фильтрации нужных пользователей можешь использовать* `loc[ ]`\n"
   ]
  },
  {
   "cell_type": "code",
   "execution_count": 51,
   "metadata": {
    "id": "yicAUBtnbL07"
   },
   "outputs": [
    {
     "data": {
      "text/html": [
       "<div>\n",
       "<style scoped>\n",
       "    .dataframe tbody tr th:only-of-type {\n",
       "        vertical-align: middle;\n",
       "    }\n",
       "\n",
       "    .dataframe tbody tr th {\n",
       "        vertical-align: top;\n",
       "    }\n",
       "\n",
       "    .dataframe thead th {\n",
       "        text-align: right;\n",
       "    }\n",
       "</style>\n",
       "<table border=\"1\" class=\"dataframe\">\n",
       "  <thead>\n",
       "    <tr style=\"text-align: right;\">\n",
       "      <th></th>\n",
       "      <th>user_id</th>\n",
       "      <th>test_group</th>\n",
       "      <th>purchase_amount</th>\n",
       "      <th>geo_group</th>\n",
       "      <th>acquisition_channel</th>\n",
       "      <th>within_window</th>\n",
       "      <th>platform</th>\n",
       "    </tr>\n",
       "  </thead>\n",
       "  <tbody>\n",
       "    <tr>\n",
       "      <th>1</th>\n",
       "      <td>3738</td>\n",
       "      <td>test</td>\n",
       "      <td>306.639511</td>\n",
       "      <td>regions</td>\n",
       "      <td>target_direct</td>\n",
       "      <td>1</td>\n",
       "      <td>pc</td>\n",
       "    </tr>\n",
       "    <tr>\n",
       "      <th>2</th>\n",
       "      <td>3755</td>\n",
       "      <td>control</td>\n",
       "      <td>NaN</td>\n",
       "      <td>regions</td>\n",
       "      <td>target_direct</td>\n",
       "      <td>0</td>\n",
       "      <td>pc</td>\n",
       "    </tr>\n",
       "    <tr>\n",
       "      <th>3</th>\n",
       "      <td>3772</td>\n",
       "      <td>test</td>\n",
       "      <td>NaN</td>\n",
       "      <td>regions</td>\n",
       "      <td>context_brand</td>\n",
       "      <td>0</td>\n",
       "      <td>mobile</td>\n",
       "    </tr>\n",
       "    <tr>\n",
       "      <th>4</th>\n",
       "      <td>3789</td>\n",
       "      <td>control</td>\n",
       "      <td>NaN</td>\n",
       "      <td>spb</td>\n",
       "      <td>target_direct</td>\n",
       "      <td>0</td>\n",
       "      <td>pc</td>\n",
       "    </tr>\n",
       "    <tr>\n",
       "      <th>5</th>\n",
       "      <td>3806</td>\n",
       "      <td>test</td>\n",
       "      <td>NaN</td>\n",
       "      <td>regions</td>\n",
       "      <td>social_media</td>\n",
       "      <td>0</td>\n",
       "      <td>pc</td>\n",
       "    </tr>\n",
       "    <tr>\n",
       "      <th>...</th>\n",
       "      <td>...</td>\n",
       "      <td>...</td>\n",
       "      <td>...</td>\n",
       "      <td>...</td>\n",
       "      <td>...</td>\n",
       "      <td>...</td>\n",
       "      <td>...</td>\n",
       "    </tr>\n",
       "    <tr>\n",
       "      <th>152995</th>\n",
       "      <td>2604636</td>\n",
       "      <td>test</td>\n",
       "      <td>NaN</td>\n",
       "      <td>regions</td>\n",
       "      <td>target_direct</td>\n",
       "      <td>0</td>\n",
       "      <td>pc</td>\n",
       "    </tr>\n",
       "    <tr>\n",
       "      <th>152996</th>\n",
       "      <td>2604653</td>\n",
       "      <td>control</td>\n",
       "      <td>5236.818309</td>\n",
       "      <td>regions</td>\n",
       "      <td>organic</td>\n",
       "      <td>1</td>\n",
       "      <td>mobile</td>\n",
       "    </tr>\n",
       "    <tr>\n",
       "      <th>152997</th>\n",
       "      <td>2604670</td>\n",
       "      <td>control</td>\n",
       "      <td>NaN</td>\n",
       "      <td>regions</td>\n",
       "      <td>target_direct</td>\n",
       "      <td>0</td>\n",
       "      <td>pc</td>\n",
       "    </tr>\n",
       "    <tr>\n",
       "      <th>152998</th>\n",
       "      <td>2604687</td>\n",
       "      <td>control</td>\n",
       "      <td>101.783032</td>\n",
       "      <td>regions</td>\n",
       "      <td>target_direct</td>\n",
       "      <td>1</td>\n",
       "      <td>pc</td>\n",
       "    </tr>\n",
       "    <tr>\n",
       "      <th>152999</th>\n",
       "      <td>2604704</td>\n",
       "      <td>test</td>\n",
       "      <td>NaN</td>\n",
       "      <td>msk</td>\n",
       "      <td>social_media</td>\n",
       "      <td>0</td>\n",
       "      <td>pc</td>\n",
       "    </tr>\n",
       "  </tbody>\n",
       "</table>\n",
       "<p>150483 rows × 7 columns</p>\n",
       "</div>"
      ],
      "text/plain": [
       "        user_id test_group  purchase_amount geo_group acquisition_channel  \\\n",
       "1          3738       test       306.639511   regions       target_direct   \n",
       "2          3755    control              NaN   regions       target_direct   \n",
       "3          3772       test              NaN   regions       context_brand   \n",
       "4          3789    control              NaN       spb       target_direct   \n",
       "5          3806       test              NaN   regions        social_media   \n",
       "...         ...        ...              ...       ...                 ...   \n",
       "152995  2604636       test              NaN   regions       target_direct   \n",
       "152996  2604653    control      5236.818309   regions             organic   \n",
       "152997  2604670    control              NaN   regions       target_direct   \n",
       "152998  2604687    control       101.783032   regions       target_direct   \n",
       "152999  2604704       test              NaN       msk        social_media   \n",
       "\n",
       "        within_window platform  \n",
       "1                   1       pc  \n",
       "2                   0       pc  \n",
       "3                   0   mobile  \n",
       "4                   0       pc  \n",
       "5                   0       pc  \n",
       "...               ...      ...  \n",
       "152995              0       pc  \n",
       "152996              1   mobile  \n",
       "152997              0       pc  \n",
       "152998              1       pc  \n",
       "152999              0       pc  \n",
       "\n",
       "[150483 rows x 7 columns]"
      ]
     },
     "execution_count": 51,
     "metadata": {},
     "output_type": "execute_result"
    }
   ],
   "source": [
    "data_all=data\n",
    "data_all"
   ]
  },
  {
   "cell_type": "code",
   "execution_count": 53,
   "metadata": {
    "id": "dAdU8YspbL07"
   },
   "outputs": [
    {
     "data": {
      "text/html": [
       "<div>\n",
       "<style scoped>\n",
       "    .dataframe tbody tr th:only-of-type {\n",
       "        vertical-align: middle;\n",
       "    }\n",
       "\n",
       "    .dataframe tbody tr th {\n",
       "        vertical-align: top;\n",
       "    }\n",
       "\n",
       "    .dataframe thead th {\n",
       "        text-align: right;\n",
       "    }\n",
       "</style>\n",
       "<table border=\"1\" class=\"dataframe\">\n",
       "  <thead>\n",
       "    <tr style=\"text-align: right;\">\n",
       "      <th></th>\n",
       "      <th>user_id</th>\n",
       "      <th>test_group</th>\n",
       "      <th>purchase_amount</th>\n",
       "      <th>geo_group</th>\n",
       "      <th>acquisition_channel</th>\n",
       "      <th>within_window</th>\n",
       "      <th>platform</th>\n",
       "    </tr>\n",
       "  </thead>\n",
       "  <tbody>\n",
       "    <tr>\n",
       "      <th>1</th>\n",
       "      <td>3738</td>\n",
       "      <td>test</td>\n",
       "      <td>306.639511</td>\n",
       "      <td>regions</td>\n",
       "      <td>target_direct</td>\n",
       "      <td>1</td>\n",
       "      <td>pc</td>\n",
       "    </tr>\n",
       "    <tr>\n",
       "      <th>2</th>\n",
       "      <td>3755</td>\n",
       "      <td>control</td>\n",
       "      <td>NaN</td>\n",
       "      <td>regions</td>\n",
       "      <td>target_direct</td>\n",
       "      <td>0</td>\n",
       "      <td>pc</td>\n",
       "    </tr>\n",
       "    <tr>\n",
       "      <th>4</th>\n",
       "      <td>3789</td>\n",
       "      <td>control</td>\n",
       "      <td>NaN</td>\n",
       "      <td>spb</td>\n",
       "      <td>target_direct</td>\n",
       "      <td>0</td>\n",
       "      <td>pc</td>\n",
       "    </tr>\n",
       "    <tr>\n",
       "      <th>5</th>\n",
       "      <td>3806</td>\n",
       "      <td>test</td>\n",
       "      <td>NaN</td>\n",
       "      <td>regions</td>\n",
       "      <td>social_media</td>\n",
       "      <td>0</td>\n",
       "      <td>pc</td>\n",
       "    </tr>\n",
       "    <tr>\n",
       "      <th>6</th>\n",
       "      <td>3823</td>\n",
       "      <td>test</td>\n",
       "      <td>455.185867</td>\n",
       "      <td>regions</td>\n",
       "      <td>social_media</td>\n",
       "      <td>1</td>\n",
       "      <td>pc</td>\n",
       "    </tr>\n",
       "    <tr>\n",
       "      <th>...</th>\n",
       "      <td>...</td>\n",
       "      <td>...</td>\n",
       "      <td>...</td>\n",
       "      <td>...</td>\n",
       "      <td>...</td>\n",
       "      <td>...</td>\n",
       "      <td>...</td>\n",
       "    </tr>\n",
       "    <tr>\n",
       "      <th>152994</th>\n",
       "      <td>2604619</td>\n",
       "      <td>test</td>\n",
       "      <td>NaN</td>\n",
       "      <td>regions</td>\n",
       "      <td>target_direct</td>\n",
       "      <td>0</td>\n",
       "      <td>pc</td>\n",
       "    </tr>\n",
       "    <tr>\n",
       "      <th>152995</th>\n",
       "      <td>2604636</td>\n",
       "      <td>test</td>\n",
       "      <td>NaN</td>\n",
       "      <td>regions</td>\n",
       "      <td>target_direct</td>\n",
       "      <td>0</td>\n",
       "      <td>pc</td>\n",
       "    </tr>\n",
       "    <tr>\n",
       "      <th>152997</th>\n",
       "      <td>2604670</td>\n",
       "      <td>control</td>\n",
       "      <td>NaN</td>\n",
       "      <td>regions</td>\n",
       "      <td>target_direct</td>\n",
       "      <td>0</td>\n",
       "      <td>pc</td>\n",
       "    </tr>\n",
       "    <tr>\n",
       "      <th>152998</th>\n",
       "      <td>2604687</td>\n",
       "      <td>control</td>\n",
       "      <td>101.783032</td>\n",
       "      <td>regions</td>\n",
       "      <td>target_direct</td>\n",
       "      <td>1</td>\n",
       "      <td>pc</td>\n",
       "    </tr>\n",
       "    <tr>\n",
       "      <th>152999</th>\n",
       "      <td>2604704</td>\n",
       "      <td>test</td>\n",
       "      <td>NaN</td>\n",
       "      <td>msk</td>\n",
       "      <td>social_media</td>\n",
       "      <td>0</td>\n",
       "      <td>pc</td>\n",
       "    </tr>\n",
       "  </tbody>\n",
       "</table>\n",
       "<p>105429 rows × 7 columns</p>\n",
       "</div>"
      ],
      "text/plain": [
       "        user_id test_group  purchase_amount geo_group acquisition_channel  \\\n",
       "1          3738       test       306.639511   regions       target_direct   \n",
       "2          3755    control              NaN   regions       target_direct   \n",
       "4          3789    control              NaN       spb       target_direct   \n",
       "5          3806       test              NaN   regions        social_media   \n",
       "6          3823       test       455.185867   regions        social_media   \n",
       "...         ...        ...              ...       ...                 ...   \n",
       "152994  2604619       test              NaN   regions       target_direct   \n",
       "152995  2604636       test              NaN   regions       target_direct   \n",
       "152997  2604670    control              NaN   regions       target_direct   \n",
       "152998  2604687    control       101.783032   regions       target_direct   \n",
       "152999  2604704       test              NaN       msk        social_media   \n",
       "\n",
       "        within_window platform  \n",
       "1                   1       pc  \n",
       "2                   0       pc  \n",
       "4                   0       pc  \n",
       "5                   0       pc  \n",
       "6                   1       pc  \n",
       "...               ...      ...  \n",
       "152994              0       pc  \n",
       "152995              0       pc  \n",
       "152997              0       pc  \n",
       "152998              1       pc  \n",
       "152999              0       pc  \n",
       "\n",
       "[105429 rows x 7 columns]"
      ]
     },
     "execution_count": 53,
     "metadata": {},
     "output_type": "execute_result"
    }
   ],
   "source": [
    "data_pc=data.loc[data['platform']=='pc']\n",
    "data_pc"
   ]
  },
  {
   "cell_type": "code",
   "execution_count": 55,
   "metadata": {
    "id": "j1bGG9yrbL08"
   },
   "outputs": [
    {
     "data": {
      "text/html": [
       "<div>\n",
       "<style scoped>\n",
       "    .dataframe tbody tr th:only-of-type {\n",
       "        vertical-align: middle;\n",
       "    }\n",
       "\n",
       "    .dataframe tbody tr th {\n",
       "        vertical-align: top;\n",
       "    }\n",
       "\n",
       "    .dataframe thead th {\n",
       "        text-align: right;\n",
       "    }\n",
       "</style>\n",
       "<table border=\"1\" class=\"dataframe\">\n",
       "  <thead>\n",
       "    <tr style=\"text-align: right;\">\n",
       "      <th></th>\n",
       "      <th>user_id</th>\n",
       "      <th>test_group</th>\n",
       "      <th>purchase_amount</th>\n",
       "      <th>geo_group</th>\n",
       "      <th>acquisition_channel</th>\n",
       "      <th>within_window</th>\n",
       "      <th>platform</th>\n",
       "    </tr>\n",
       "  </thead>\n",
       "  <tbody>\n",
       "    <tr>\n",
       "      <th>3</th>\n",
       "      <td>3772</td>\n",
       "      <td>test</td>\n",
       "      <td>NaN</td>\n",
       "      <td>regions</td>\n",
       "      <td>context_brand</td>\n",
       "      <td>0</td>\n",
       "      <td>mobile</td>\n",
       "    </tr>\n",
       "    <tr>\n",
       "      <th>16</th>\n",
       "      <td>3993</td>\n",
       "      <td>control</td>\n",
       "      <td>128.730930</td>\n",
       "      <td>msk</td>\n",
       "      <td>social_media</td>\n",
       "      <td>1</td>\n",
       "      <td>mobile</td>\n",
       "    </tr>\n",
       "    <tr>\n",
       "      <th>22</th>\n",
       "      <td>4095</td>\n",
       "      <td>control</td>\n",
       "      <td>NaN</td>\n",
       "      <td>msk</td>\n",
       "      <td>target_direct</td>\n",
       "      <td>0</td>\n",
       "      <td>mobile</td>\n",
       "    </tr>\n",
       "    <tr>\n",
       "      <th>27</th>\n",
       "      <td>4180</td>\n",
       "      <td>control</td>\n",
       "      <td>NaN</td>\n",
       "      <td>regions</td>\n",
       "      <td>social_media</td>\n",
       "      <td>0</td>\n",
       "      <td>mobile</td>\n",
       "    </tr>\n",
       "    <tr>\n",
       "      <th>30</th>\n",
       "      <td>4231</td>\n",
       "      <td>test</td>\n",
       "      <td>NaN</td>\n",
       "      <td>regions</td>\n",
       "      <td>target_direct</td>\n",
       "      <td>0</td>\n",
       "      <td>mobile</td>\n",
       "    </tr>\n",
       "    <tr>\n",
       "      <th>...</th>\n",
       "      <td>...</td>\n",
       "      <td>...</td>\n",
       "      <td>...</td>\n",
       "      <td>...</td>\n",
       "      <td>...</td>\n",
       "      <td>...</td>\n",
       "      <td>...</td>\n",
       "    </tr>\n",
       "    <tr>\n",
       "      <th>152974</th>\n",
       "      <td>2604279</td>\n",
       "      <td>test</td>\n",
       "      <td>NaN</td>\n",
       "      <td>regions</td>\n",
       "      <td>context_brand</td>\n",
       "      <td>0</td>\n",
       "      <td>mobile</td>\n",
       "    </tr>\n",
       "    <tr>\n",
       "      <th>152979</th>\n",
       "      <td>2604364</td>\n",
       "      <td>control</td>\n",
       "      <td>6609.158913</td>\n",
       "      <td>regions</td>\n",
       "      <td>target_direct</td>\n",
       "      <td>1</td>\n",
       "      <td>mobile</td>\n",
       "    </tr>\n",
       "    <tr>\n",
       "      <th>152982</th>\n",
       "      <td>2604415</td>\n",
       "      <td>test</td>\n",
       "      <td>NaN</td>\n",
       "      <td>regions</td>\n",
       "      <td>organic</td>\n",
       "      <td>0</td>\n",
       "      <td>mobile</td>\n",
       "    </tr>\n",
       "    <tr>\n",
       "      <th>152986</th>\n",
       "      <td>2604483</td>\n",
       "      <td>test</td>\n",
       "      <td>NaN</td>\n",
       "      <td>regions</td>\n",
       "      <td>target_direct</td>\n",
       "      <td>0</td>\n",
       "      <td>mobile</td>\n",
       "    </tr>\n",
       "    <tr>\n",
       "      <th>152996</th>\n",
       "      <td>2604653</td>\n",
       "      <td>control</td>\n",
       "      <td>5236.818309</td>\n",
       "      <td>regions</td>\n",
       "      <td>organic</td>\n",
       "      <td>1</td>\n",
       "      <td>mobile</td>\n",
       "    </tr>\n",
       "  </tbody>\n",
       "</table>\n",
       "<p>45054 rows × 7 columns</p>\n",
       "</div>"
      ],
      "text/plain": [
       "        user_id test_group  purchase_amount geo_group acquisition_channel  \\\n",
       "3          3772       test              NaN   regions       context_brand   \n",
       "16         3993    control       128.730930       msk        social_media   \n",
       "22         4095    control              NaN       msk       target_direct   \n",
       "27         4180    control              NaN   regions        social_media   \n",
       "30         4231       test              NaN   regions       target_direct   \n",
       "...         ...        ...              ...       ...                 ...   \n",
       "152974  2604279       test              NaN   regions       context_brand   \n",
       "152979  2604364    control      6609.158913   regions       target_direct   \n",
       "152982  2604415       test              NaN   regions             organic   \n",
       "152986  2604483       test              NaN   regions       target_direct   \n",
       "152996  2604653    control      5236.818309   regions             organic   \n",
       "\n",
       "        within_window platform  \n",
       "3                   0   mobile  \n",
       "16                  1   mobile  \n",
       "22                  0   mobile  \n",
       "27                  0   mobile  \n",
       "30                  0   mobile  \n",
       "...               ...      ...  \n",
       "152974              0   mobile  \n",
       "152979              1   mobile  \n",
       "152982              0   mobile  \n",
       "152986              0   mobile  \n",
       "152996              1   mobile  \n",
       "\n",
       "[45054 rows x 7 columns]"
      ]
     },
     "execution_count": 55,
     "metadata": {},
     "output_type": "execute_result"
    }
   ],
   "source": [
    "data_mobile = data.loc[data['platform']=='mobile']\n",
    "data_mobile"
   ]
  },
  {
   "cell_type": "code",
   "execution_count": 52,
   "metadata": {},
   "outputs": [
    {
     "data": {
      "text/html": [
       "<div>\n",
       "<style scoped>\n",
       "    .dataframe tbody tr th:only-of-type {\n",
       "        vertical-align: middle;\n",
       "    }\n",
       "\n",
       "    .dataframe tbody tr th {\n",
       "        vertical-align: top;\n",
       "    }\n",
       "\n",
       "    .dataframe thead th {\n",
       "        text-align: right;\n",
       "    }\n",
       "</style>\n",
       "<table border=\"1\" class=\"dataframe\">\n",
       "  <thead>\n",
       "    <tr style=\"text-align: right;\">\n",
       "      <th></th>\n",
       "      <th>test_group</th>\n",
       "      <th>user_id</th>\n",
       "      <th>purchase_amount</th>\n",
       "      <th>within_window</th>\n",
       "      <th>conversion</th>\n",
       "    </tr>\n",
       "  </thead>\n",
       "  <tbody>\n",
       "    <tr>\n",
       "      <th>0</th>\n",
       "      <td>control</td>\n",
       "      <td>75210</td>\n",
       "      <td>5170.864335</td>\n",
       "      <td>22998</td>\n",
       "      <td>30.58</td>\n",
       "    </tr>\n",
       "    <tr>\n",
       "      <th>1</th>\n",
       "      <td>test</td>\n",
       "      <td>75273</td>\n",
       "      <td>5394.771589</td>\n",
       "      <td>24427</td>\n",
       "      <td>32.45</td>\n",
       "    </tr>\n",
       "  </tbody>\n",
       "</table>\n",
       "</div>"
      ],
      "text/plain": [
       "  test_group  user_id  purchase_amount  within_window  conversion\n",
       "0    control    75210      5170.864335          22998       30.58\n",
       "1       test    75273      5394.771589          24427       32.45"
      ]
     },
     "execution_count": 52,
     "metadata": {},
     "output_type": "execute_result"
    }
   ],
   "source": [
    "metrics1=data_all.groupby('test_group', as_index= False).agg({'user_id': 'count', 'purchase_amount': 'mean','within_window': 'sum'})\n",
    "metrics1['conversion'] = round(metrics1['within_window']/metrics1['user_id']*100, 2)\n",
    "metrics1"
   ]
  },
  {
   "cell_type": "code",
   "execution_count": 56,
   "metadata": {},
   "outputs": [
    {
     "data": {
      "text/html": [
       "<div>\n",
       "<style scoped>\n",
       "    .dataframe tbody tr th:only-of-type {\n",
       "        vertical-align: middle;\n",
       "    }\n",
       "\n",
       "    .dataframe tbody tr th {\n",
       "        vertical-align: top;\n",
       "    }\n",
       "\n",
       "    .dataframe thead th {\n",
       "        text-align: right;\n",
       "    }\n",
       "</style>\n",
       "<table border=\"1\" class=\"dataframe\">\n",
       "  <thead>\n",
       "    <tr style=\"text-align: right;\">\n",
       "      <th></th>\n",
       "      <th>test_group</th>\n",
       "      <th>user_id</th>\n",
       "      <th>within_window</th>\n",
       "      <th>purchase_amount</th>\n",
       "      <th>conversion</th>\n",
       "    </tr>\n",
       "  </thead>\n",
       "  <tbody>\n",
       "    <tr>\n",
       "      <th>0</th>\n",
       "      <td>control</td>\n",
       "      <td>30098</td>\n",
       "      <td>9266</td>\n",
       "      <td>5127.505438</td>\n",
       "      <td>30.79</td>\n",
       "    </tr>\n",
       "    <tr>\n",
       "      <th>1</th>\n",
       "      <td>test</td>\n",
       "      <td>14956</td>\n",
       "      <td>4768</td>\n",
       "      <td>5369.075812</td>\n",
       "      <td>31.88</td>\n",
       "    </tr>\n",
       "  </tbody>\n",
       "</table>\n",
       "</div>"
      ],
      "text/plain": [
       "  test_group  user_id  within_window  purchase_amount  conversion\n",
       "0    control    30098           9266      5127.505438       30.79\n",
       "1       test    14956           4768      5369.075812       31.88"
      ]
     },
     "execution_count": 56,
     "metadata": {},
     "output_type": "execute_result"
    }
   ],
   "source": [
    "metrics_mobile=data_mobile.groupby('test_group', as_index= False).agg({'user_id': 'count', 'within_window': 'sum','purchase_amount': 'mean'})\n",
    "metrics_mobile['conversion'] = round(metrics_mobile['within_window']/metrics_mobile['user_id']*100, 2)\n",
    "metrics_mobile"
   ]
  },
  {
   "cell_type": "code",
   "execution_count": 54,
   "metadata": {},
   "outputs": [
    {
     "data": {
      "text/html": [
       "<div>\n",
       "<style scoped>\n",
       "    .dataframe tbody tr th:only-of-type {\n",
       "        vertical-align: middle;\n",
       "    }\n",
       "\n",
       "    .dataframe tbody tr th {\n",
       "        vertical-align: top;\n",
       "    }\n",
       "\n",
       "    .dataframe thead th {\n",
       "        text-align: right;\n",
       "    }\n",
       "</style>\n",
       "<table border=\"1\" class=\"dataframe\">\n",
       "  <thead>\n",
       "    <tr style=\"text-align: right;\">\n",
       "      <th></th>\n",
       "      <th>test_group</th>\n",
       "      <th>user_id</th>\n",
       "      <th>within_window</th>\n",
       "      <th>purchase_amount</th>\n",
       "      <th>conversion</th>\n",
       "    </tr>\n",
       "  </thead>\n",
       "  <tbody>\n",
       "    <tr>\n",
       "      <th>0</th>\n",
       "      <td>control</td>\n",
       "      <td>45112</td>\n",
       "      <td>13732</td>\n",
       "      <td>5200.121803</td>\n",
       "      <td>30.44</td>\n",
       "    </tr>\n",
       "    <tr>\n",
       "      <th>1</th>\n",
       "      <td>test</td>\n",
       "      <td>60317</td>\n",
       "      <td>19659</td>\n",
       "      <td>5401.003720</td>\n",
       "      <td>32.59</td>\n",
       "    </tr>\n",
       "  </tbody>\n",
       "</table>\n",
       "</div>"
      ],
      "text/plain": [
       "  test_group  user_id  within_window  purchase_amount  conversion\n",
       "0    control    45112          13732      5200.121803       30.44\n",
       "1       test    60317          19659      5401.003720       32.59"
      ]
     },
     "execution_count": 54,
     "metadata": {},
     "output_type": "execute_result"
    }
   ],
   "source": [
    "metrics_pc=data_pc.groupby('test_group', as_index= False).agg({'user_id': 'count', 'within_window': 'sum','purchase_amount': 'mean'})\n",
    "metrics_pc['conversion'] = round(metrics_pc['within_window']/metrics_pc['user_id']*100, 2)\n",
    "metrics_pc"
   ]
  },
  {
   "cell_type": "code",
   "execution_count": 24,
   "metadata": {},
   "outputs": [],
   "source": [
    "metrics = data.groupby('test_group', as_index= False).agg({'user_id': 'count', 'within_window': 'sum'})\n",
    "metrics['conversion'] = round(metrics['within_window']/metrics['user_id']*100, 2)"
   ]
  },
  {
   "cell_type": "markdown",
   "metadata": {
    "id": "CqMnSwzvbL08"
   },
   "source": [
    "**1. Вычисли** `p-value` **для каждой группы с помощью теста хи-квадрат**\n",
    "\n",
    "   - Импортируй библиотеку `statsmodels` и используй функцию `proportions_chisquare` из нее\n",
    "   - Результат работы функции `proportions_chisquare` присвой трем переменным для каждой группы\n"
   ]
  },
  {
   "cell_type": "code",
   "execution_count": null,
   "metadata": {},
   "outputs": [],
   "source": []
  },
  {
   "cell_type": "code",
   "execution_count": 110,
   "metadata": {
    "id": "Q5J-6Z54bL08"
   },
   "outputs": [],
   "source": [
    "import statsmodels.stats.proportion as proportion"
   ]
  },
  {
   "cell_type": "code",
   "execution_count": 111,
   "metadata": {
    "id": "_w0kri_PbL0-"
   },
   "outputs": [],
   "source": [
    "chi2stat, pval, table = proportion.proportions_chisquare(metrics1['within_window'], metrics1['user_id'])"
   ]
  },
  {
   "cell_type": "code",
   "execution_count": 112,
   "metadata": {},
   "outputs": [
    {
     "data": {
      "text/plain": [
       "(61.137841436908104,\n",
       " 5.321539863368111e-15,\n",
       " (array([[22998, 52212],\n",
       "         [24427, 50846]], dtype=int64),\n",
       "  array([[23702.57271585, 51507.42728415],\n",
       "         [23722.42728415, 51550.57271585]])))"
      ]
     },
     "execution_count": 112,
     "metadata": {},
     "output_type": "execute_result"
    }
   ],
   "source": [
    "chi2stat, pval, table"
   ]
  },
  {
   "cell_type": "code",
   "execution_count": 113,
   "metadata": {
    "id": "WZHc1CEHbL0-"
   },
   "outputs": [
    {
     "data": {
      "text/plain": [
       "(55.28301795095328,\n",
       " 1.0436637877855105e-13,\n",
       " (array([[13732, 31380],\n",
       "         [19659, 40658]], dtype=int64),\n",
       "  array([[14287.67029944, 30824.32970056],\n",
       "         [19103.32970056, 41213.67029944]])))"
      ]
     },
     "execution_count": 113,
     "metadata": {},
     "output_type": "execute_result"
    }
   ],
   "source": [
    "chi2stat_pc, pval_pc, table_pc = proportion.proportions_chisquare(metrics_pc['within_window'], metrics_pc['user_id'])\n",
    "chi2stat_pc, pval_pc, table_pc"
   ]
  },
  {
   "cell_type": "code",
   "execution_count": 114,
   "metadata": {
    "id": "hu9CH3VFbL0_"
   },
   "outputs": [
    {
     "data": {
      "text/plain": [
       "(5.576527147023639,\n",
       " 0.018202784051985058,\n",
       " (array([[ 9266, 20832],\n",
       "         [ 4768, 10188]], dtype=int64),\n",
       "  array([[ 9375.31255826, 20722.68744174],\n",
       "         [ 4658.68744174, 10297.31255826]])))"
      ]
     },
     "execution_count": 114,
     "metadata": {},
     "output_type": "execute_result"
    }
   ],
   "source": [
    "chi2stat_mobile, pval_mobile, table_mobile = proportion.proportions_chisquare(metrics_mobile['within_window'], metrics_mobile['user_id'])\n",
    "chi2stat_mobile, pval_mobile, table_mobile"
   ]
  },
  {
   "cell_type": "markdown",
   "metadata": {
    "id": "cbSeqgLkbL0_"
   },
   "source": [
    "**2. Введи в анализ уровень значимости в 5% с помощью переменной** `alpha`.\n"
   ]
  },
  {
   "cell_type": "code",
   "execution_count": 130,
   "metadata": {
    "id": "YRT0d5F4bL0_"
   },
   "outputs": [],
   "source": [
    "alpha = 0.005"
   ]
  },
  {
   "cell_type": "code",
   "execution_count": 131,
   "metadata": {},
   "outputs": [
    {
     "name": "stdout",
     "output_type": "stream",
     "text": [
      "True\n"
     ]
    }
   ],
   "source": [
    "print(pval < alpha)"
   ]
  },
  {
   "cell_type": "code",
   "execution_count": 132,
   "metadata": {},
   "outputs": [
    {
     "name": "stdout",
     "output_type": "stream",
     "text": [
      "True\n"
     ]
    }
   ],
   "source": [
    "print(pval_pc < alpha)"
   ]
  },
  {
   "cell_type": "code",
   "execution_count": 133,
   "metadata": {},
   "outputs": [
    {
     "name": "stdout",
     "output_type": "stream",
     "text": [
      "False\n"
     ]
    }
   ],
   "source": [
    "print(pval_mobile < alpha)"
   ]
  },
  {
   "cell_type": "code",
   "execution_count": 134,
   "metadata": {},
   "outputs": [
    {
     "name": "stdout",
     "output_type": "stream",
     "text": [
      "5.321539863368111e-15\n",
      "1.0436637877855105e-13\n",
      "0.018202784051985058\n"
     ]
    }
   ],
   "source": [
    "print(pval)\n",
    "print(pval_pc)\n",
    "print(pval_mobile)"
   ]
  },
  {
   "cell_type": "markdown",
   "metadata": {
    "id": "5HjWvrfObL1A"
   },
   "source": [
    "**3. Оставь комментарий, какой вывод о наличии статистически значимой в каждой группе разницы можно сделать? Что делаем с нулевой гипотезой?**"
   ]
  },
  {
   "cell_type": "code",
   "execution_count": null,
   "metadata": {},
   "outputs": [],
   "source": [
    "все три группы показали p-value меньше порога ошибки первого рода, значит результат можно считать статзначимым, нулевую гипотезу отклоняем"
   ]
  },
  {
   "cell_type": "markdown",
   "metadata": {
    "id": "aTrhi9zfbL1B"
   },
   "source": [
    "## Задание 4. Вычисли мощность теста\n",
    "\n",
    "1. Импортируй объект `stats.power` из библиотеки `statsmodels`\n",
    "2. Присвой функцию `GofChisquarePower()` из этой библиотеки в переменную `chipower` \n",
    "3. Реализуй функцию для подсчета `effect_size`"
   ]
  },
  {
   "cell_type": "code",
   "execution_count": null,
   "metadata": {},
   "outputs": [],
   "source": []
  },
  {
   "cell_type": "code",
   "execution_count": 36,
   "metadata": {
    "id": "-yk7MRcIbL1B"
   },
   "outputs": [],
   "source": [
    "import statsmodels.stats.power as smp"
   ]
  },
  {
   "cell_type": "code",
   "execution_count": 37,
   "metadata": {
    "id": "-riu6DIdbL1C"
   },
   "outputs": [],
   "source": [
    "chipower = smp.GofChisquarePower()"
   ]
  },
  {
   "cell_type": "markdown",
   "metadata": {
    "id": "fPvQU-50bL1D"
   },
   "source": [
    "`effect_size` — это та самая наблюдаемая разница между двумя вариантами. Вычисляется следующим образом: \n",
    "\n",
    "$$ES = \\sqrt{(p_0 - p_1)^2/p_o}$$\n",
    "\n",
    ", где под $p_0$ можно понимать конверсию в контрольной группе, а $p_1$ — тестовой"
   ]
  },
  {
   "cell_type": "code",
   "execution_count": 38,
   "metadata": {
    "id": "oKd-pOhNbL1H"
   },
   "outputs": [],
   "source": [
    "def chi2_effect_size(p0, p1):\n",
    "    return np.sqrt(((p0 - p1)**2 / p0))"
   ]
  },
  {
   "cell_type": "markdown",
   "metadata": {
    "id": "DNxX0FxlbL1I"
   },
   "source": [
    "4. Запиши значения конверсии в тестовой `conversion_test` и контрольной `conversion_control` группы в разные переменные\n",
    "    - переведи серию в массив с помощью `.values[ ]`\n",
    "    - раздели значения на 100, чтобы получить значения, а не %\n",
    "    \n",
    "    \n",
    "5. Создай переменную nobs для количества наблюдений и запиши в нее значение меньшей группы"
   ]
  },
  {
   "cell_type": "code",
   "execution_count": 39,
   "metadata": {
    "id": "3Pk5F428bL1J"
   },
   "outputs": [],
   "source": [
    "conversion_control= metrics1['conversion'].values[0]/100 \n",
    "conversion_test = metrics1['conversion'].values[1]/100\n",
    "nobs= min(metrics1['user_id'])"
   ]
  },
  {
   "cell_type": "code",
   "execution_count": 41,
   "metadata": {
    "id": "GvXJIApvbL1K"
   },
   "outputs": [],
   "source": [
    "conversion_control_mobile = metrics_mobile['conversion'].values[0]/100 \n",
    "conversion_test_mobile = metrics_mobile['conversion'].values[1]/100\n",
    "nobs_mobile =  min(metrics_mobile['user_id'])"
   ]
  },
  {
   "cell_type": "code",
   "execution_count": 42,
   "metadata": {
    "id": "uCdz925obL1K"
   },
   "outputs": [],
   "source": [
    "conversion_control_pc = metrics_pc['conversion'].values[0]/100 \n",
    "conversion_test_pc = metrics_pc['conversion'].values[1]/100\n",
    "nobs_pc = min(metrics_pc['user_id'])"
   ]
  },
  {
   "cell_type": "markdown",
   "metadata": {
    "id": "_IYBUKzTbL1K"
   },
   "source": [
    "**6. Вызови функцию .solve_power и передай ей в аргументы** \n",
    "    - effect_size\n",
    "    - количество наблюдений меньшей группы\n",
    "    - значение p-value\n",
    "    - мощности присвой значение None\n",
    "    \n",
    "**7. Сделай анализ мощности для каждого сегмента, для которого делали тест хи-квадрат.**\n",
    "\n",
    "Оставь комментарий, как ты оцениваешь мощность этого теста? Можно ли на основе таких показателей делать выводы?\n"
   ]
  },
  {
   "cell_type": "code",
   "execution_count": 44,
   "metadata": {
    "id": "iedF3DKybL1L"
   },
   "outputs": [
    {
     "data": {
      "text/plain": [
       "0.9271367916086642"
      ]
     },
     "execution_count": 44,
     "metadata": {},
     "output_type": "execute_result"
    }
   ],
   "source": [
    "power = chipower.solve_power(effect_size = chi2_effect_size(conversion_control, conversion_test), # разница коэффициентов конверсии\n",
    "                                               nobs = nobs, # размер выборки\n",
    "                                               alpha = pval, # значение ошибки первого рода на наших данных\n",
    "                                               power = None) # функция вернет значение, указаное как None\n",
    "power"
   ]
  },
  {
   "cell_type": "code",
   "execution_count": 46,
   "metadata": {
    "id": "N5BqF4yYbL1L"
   },
   "outputs": [
    {
     "data": {
      "text/plain": [
       "0.51629109023244"
      ]
     },
     "execution_count": 46,
     "metadata": {},
     "output_type": "execute_result"
    }
   ],
   "source": [
    "mobile_power = chipower.solve_power(effect_size = chi2_effect_size(conversion_control_mobile, conversion_test_mobile), # разница коэффициентов конверсии\n",
    "                                               nobs = nobs_mobile, # размер выборки\n",
    "                                               alpha = pval_mobile, # значение ошибки первого рода на наших данных\n",
    "                                               power = None) # функция вернет значение, указаное как None\n",
    "mobile_power"
   ]
  },
  {
   "cell_type": "code",
   "execution_count": 47,
   "metadata": {
    "id": "EkzdB9swbL1L"
   },
   "outputs": [
    {
     "data": {
      "text/plain": [
       "0.79997711974453"
      ]
     },
     "execution_count": 47,
     "metadata": {},
     "output_type": "execute_result"
    }
   ],
   "source": [
    "pc_power = chipower.solve_power(effect_size = chi2_effect_size(conversion_control_pc, conversion_test_pc), # разница коэффициентов конверсии\n",
    "                                               nobs = nobs_pc, # размер выборки\n",
    "                                               alpha = pval_pc, # значение ошибки первого рода на наших данных\n",
    "                                               power = None) # функция вернет значение, указаное как None\n",
    "pc_power"
   ]
  },
  {
   "cell_type": "code",
   "execution_count": null,
   "metadata": {},
   "outputs": [],
   "source": [
    "Из полученных данных видно, что мощность общей группы более 80 , а группы пользователей пк очень близка к 80, \n",
    "значит в этих группах с большой вероятностью мы увидим статистически значимые отличия. В группе пользователей\n",
    "телефонов мощность составила 51, значит в этой группе с вероятностью 49 % мы не увидимм статистически значимые отличия."
   ]
  },
  {
   "cell_type": "markdown",
   "metadata": {
    "id": "lYlqrjkLbL1M"
   },
   "source": [
    "## Задание 5. Воспользуйся бутстрапом для оценки влияния теста на средний чек"
   ]
  },
  {
   "cell_type": "markdown",
   "metadata": {
    "id": "cAEEwfC1bL1N"
   },
   "source": [
    "**1. Сделай бутстрап среднего чека для тестовой и контрольной выборок, визуализируй результат. Какие выводы можно сделать?**\n",
    "   - загрузи нужные модули из библиотеки `bootstrapped`\n",
    "   - для сегментов, которые мы анализируем отдельно, создай переменную со значением среднего чека\n",
    "   - чтобы убрать строки без покупок, используй `dropna()` и `.values`, чтобы перевести данные в формат массива"
   ]
  },
  {
   "cell_type": "code",
   "execution_count": 49,
   "metadata": {
    "id": "HiFX2R0DbL1O"
   },
   "outputs": [],
   "source": [
    "# импортируем необходимые модули\n",
    "import bootstrapped.bootstrap as bs\n",
    "import bootstrapped.stats_functions as bs_stats\n",
    "import bootstrapped.compare_functions as bs_compare\n",
    "import numpy as np"
   ]
  },
  {
   "cell_type": "code",
   "execution_count": 57,
   "metadata": {},
   "outputs": [
    {
     "data": {
      "text/html": [
       "<div>\n",
       "<style scoped>\n",
       "    .dataframe tbody tr th:only-of-type {\n",
       "        vertical-align: middle;\n",
       "    }\n",
       "\n",
       "    .dataframe tbody tr th {\n",
       "        vertical-align: top;\n",
       "    }\n",
       "\n",
       "    .dataframe thead th {\n",
       "        text-align: right;\n",
       "    }\n",
       "</style>\n",
       "<table border=\"1\" class=\"dataframe\">\n",
       "  <thead>\n",
       "    <tr style=\"text-align: right;\">\n",
       "      <th></th>\n",
       "      <th>user_id</th>\n",
       "      <th>test_group</th>\n",
       "      <th>purchase_amount</th>\n",
       "      <th>geo_group</th>\n",
       "      <th>acquisition_channel</th>\n",
       "      <th>within_window</th>\n",
       "      <th>platform</th>\n",
       "    </tr>\n",
       "  </thead>\n",
       "  <tbody>\n",
       "    <tr>\n",
       "      <th>1</th>\n",
       "      <td>3738</td>\n",
       "      <td>test</td>\n",
       "      <td>306.639511</td>\n",
       "      <td>regions</td>\n",
       "      <td>target_direct</td>\n",
       "      <td>1</td>\n",
       "      <td>pc</td>\n",
       "    </tr>\n",
       "    <tr>\n",
       "      <th>2</th>\n",
       "      <td>3755</td>\n",
       "      <td>control</td>\n",
       "      <td>NaN</td>\n",
       "      <td>regions</td>\n",
       "      <td>target_direct</td>\n",
       "      <td>0</td>\n",
       "      <td>pc</td>\n",
       "    </tr>\n",
       "    <tr>\n",
       "      <th>3</th>\n",
       "      <td>3772</td>\n",
       "      <td>test</td>\n",
       "      <td>NaN</td>\n",
       "      <td>regions</td>\n",
       "      <td>context_brand</td>\n",
       "      <td>0</td>\n",
       "      <td>mobile</td>\n",
       "    </tr>\n",
       "    <tr>\n",
       "      <th>4</th>\n",
       "      <td>3789</td>\n",
       "      <td>control</td>\n",
       "      <td>NaN</td>\n",
       "      <td>spb</td>\n",
       "      <td>target_direct</td>\n",
       "      <td>0</td>\n",
       "      <td>pc</td>\n",
       "    </tr>\n",
       "    <tr>\n",
       "      <th>5</th>\n",
       "      <td>3806</td>\n",
       "      <td>test</td>\n",
       "      <td>NaN</td>\n",
       "      <td>regions</td>\n",
       "      <td>social_media</td>\n",
       "      <td>0</td>\n",
       "      <td>pc</td>\n",
       "    </tr>\n",
       "    <tr>\n",
       "      <th>...</th>\n",
       "      <td>...</td>\n",
       "      <td>...</td>\n",
       "      <td>...</td>\n",
       "      <td>...</td>\n",
       "      <td>...</td>\n",
       "      <td>...</td>\n",
       "      <td>...</td>\n",
       "    </tr>\n",
       "    <tr>\n",
       "      <th>152995</th>\n",
       "      <td>2604636</td>\n",
       "      <td>test</td>\n",
       "      <td>NaN</td>\n",
       "      <td>regions</td>\n",
       "      <td>target_direct</td>\n",
       "      <td>0</td>\n",
       "      <td>pc</td>\n",
       "    </tr>\n",
       "    <tr>\n",
       "      <th>152996</th>\n",
       "      <td>2604653</td>\n",
       "      <td>control</td>\n",
       "      <td>5236.818309</td>\n",
       "      <td>regions</td>\n",
       "      <td>organic</td>\n",
       "      <td>1</td>\n",
       "      <td>mobile</td>\n",
       "    </tr>\n",
       "    <tr>\n",
       "      <th>152997</th>\n",
       "      <td>2604670</td>\n",
       "      <td>control</td>\n",
       "      <td>NaN</td>\n",
       "      <td>regions</td>\n",
       "      <td>target_direct</td>\n",
       "      <td>0</td>\n",
       "      <td>pc</td>\n",
       "    </tr>\n",
       "    <tr>\n",
       "      <th>152998</th>\n",
       "      <td>2604687</td>\n",
       "      <td>control</td>\n",
       "      <td>101.783032</td>\n",
       "      <td>regions</td>\n",
       "      <td>target_direct</td>\n",
       "      <td>1</td>\n",
       "      <td>pc</td>\n",
       "    </tr>\n",
       "    <tr>\n",
       "      <th>152999</th>\n",
       "      <td>2604704</td>\n",
       "      <td>test</td>\n",
       "      <td>NaN</td>\n",
       "      <td>msk</td>\n",
       "      <td>social_media</td>\n",
       "      <td>0</td>\n",
       "      <td>pc</td>\n",
       "    </tr>\n",
       "  </tbody>\n",
       "</table>\n",
       "<p>150483 rows × 7 columns</p>\n",
       "</div>"
      ],
      "text/plain": [
       "        user_id test_group  purchase_amount geo_group acquisition_channel  \\\n",
       "1          3738       test       306.639511   regions       target_direct   \n",
       "2          3755    control              NaN   regions       target_direct   \n",
       "3          3772       test              NaN   regions       context_brand   \n",
       "4          3789    control              NaN       spb       target_direct   \n",
       "5          3806       test              NaN   regions        social_media   \n",
       "...         ...        ...              ...       ...                 ...   \n",
       "152995  2604636       test              NaN   regions       target_direct   \n",
       "152996  2604653    control      5236.818309   regions             organic   \n",
       "152997  2604670    control              NaN   regions       target_direct   \n",
       "152998  2604687    control       101.783032   regions       target_direct   \n",
       "152999  2604704       test              NaN       msk        social_media   \n",
       "\n",
       "        within_window platform  \n",
       "1                   1       pc  \n",
       "2                   0       pc  \n",
       "3                   0   mobile  \n",
       "4                   0       pc  \n",
       "5                   0       pc  \n",
       "...               ...      ...  \n",
       "152995              0       pc  \n",
       "152996              1   mobile  \n",
       "152997              0       pc  \n",
       "152998              1       pc  \n",
       "152999              0       pc  \n",
       "\n",
       "[150483 rows x 7 columns]"
      ]
     },
     "execution_count": 57,
     "metadata": {},
     "output_type": "execute_result"
    }
   ],
   "source": [
    "data_all"
   ]
  },
  {
   "cell_type": "code",
   "execution_count": 66,
   "metadata": {
    "id": "Q4QY9KlEbL1O"
   },
   "outputs": [],
   "source": [
    "test = data_all[data_all['test_group'] == 'test']['purchase_amount'].dropna().values\n",
    "control = data_all[data_all['test_group'] == 'control']['purchase_amount'].dropna().values\n",
    "\n",
    "test_pc = data_pc[data_pc['test_group'] == 'test']['purchase_amount'].dropna().values\n",
    "control_pc = data_pc[data_pc['test_group'] == 'control']['purchase_amount'].dropna().values\n",
    "\n",
    "test_mobile = data_mobile[data_mobile['test_group'] == 'test']['purchase_amount'].dropna().values\n",
    "control_mobile = data_mobile[data_mobile['test_group'] == 'control']['purchase_amount'].dropna().values"
   ]
  },
  {
   "cell_type": "code",
   "execution_count": 68,
   "metadata": {},
   "outputs": [
    {
     "name": "stdout",
     "output_type": "stream",
     "text": [
      "[  306.63951103   455.18586714   308.47387769 ...  3793.16937644\n",
      " 15918.14289112   304.87677871]\n",
      "[4912.50769047  128.7309298  5561.0190975  ... 5139.97143966 5236.81830912\n",
      "  101.78303218]\n",
      "[  306.63951103   455.18586714   308.47387769 ...  3793.16937644\n",
      " 15918.14289112   304.87677871]\n",
      "[4912.50769047 5561.0190975   240.52248096 ... 2055.15391568 5139.97143966\n",
      "  101.78303218]\n",
      "[5307.14818521 6152.77620228  334.49969485 ... 2130.46859063 5810.93555371\n",
      " 5967.34716398]\n",
      "[  128.7309298  10370.80519184   134.66595342 ...  6998.08006284\n",
      "  6609.15891273  5236.81830912]\n"
     ]
    }
   ],
   "source": [
    "print(test)\n",
    "print(control)\n",
    "\n",
    "print(test_pc)\n",
    "print(control_pc)\n",
    "\n",
    "print(test_mobile)\n",
    "print(control_mobile)"
   ]
  },
  {
   "cell_type": "markdown",
   "metadata": {
    "id": "2kZnidOtbL1P"
   },
   "source": [
    "**2. Вызови функцию `bootstrap_ab` для каждого сегмента, передай ей нужные аргументы**\n",
    "   - `test = `\n",
    "   - `ctrl = `\n",
    "   - `stat_func = bs_stats.mean`\n",
    "   - `compare_func = bs_compare.difference`\n",
    "   - `return_distribution = True`"
   ]
  },
  {
   "cell_type": "code",
   "execution_count": 75,
   "metadata": {
    "id": "_3d_VHvpbL1P"
   },
   "outputs": [
    {
     "data": {
      "text/plain": [
       "array([276.62035893, 185.03055808, 254.78313448, ..., 188.06266935,\n",
       "       259.67302506, 218.81192645])"
      ]
     },
     "execution_count": 75,
     "metadata": {},
     "output_type": "execute_result"
    }
   ],
   "source": [
    "boot = bs.bootstrap_ab(test = test, ctrl = control\n",
    "                              , stat_func = bs_stats.mean\n",
    "                              , compare_func = bs_compare.difference\n",
    "                              , return_distribution=True)\n",
    "boot"
   ]
  },
  {
   "cell_type": "code",
   "execution_count": 76,
   "metadata": {
    "id": "vfIIQjwVbL1Q"
   },
   "outputs": [
    {
     "data": {
      "text/plain": [
       "array([225.5703073 , 251.63443053, 165.33222407, ..., 215.98373077,\n",
       "       293.20297784, 163.14529606])"
      ]
     },
     "execution_count": 76,
     "metadata": {},
     "output_type": "execute_result"
    }
   ],
   "source": [
    "boot_pc = bs.bootstrap_ab(test = test_pc, ctrl = control_pc\n",
    "                              , stat_func = bs_stats.mean\n",
    "                              , compare_func = bs_compare.difference\n",
    "                              , return_distribution=True)\n",
    "boot_pc"
   ]
  },
  {
   "cell_type": "code",
   "execution_count": 77,
   "metadata": {
    "id": "EvRqr4YmbL1R"
   },
   "outputs": [
    {
     "data": {
      "text/plain": [
       "array([251.49024871, 181.25526214, 318.14993317, ..., 203.90292315,\n",
       "       294.41342215, 257.92178392])"
      ]
     },
     "execution_count": 77,
     "metadata": {},
     "output_type": "execute_result"
    }
   ],
   "source": [
    "boot_mobile = bs.bootstrap_ab(test = test_mobile, ctrl = control_mobile\n",
    "                              , stat_func = bs_stats.mean\n",
    "                              , compare_func = bs_compare.difference\n",
    "                              , return_distribution=True)\n",
    "boot_mobile"
   ]
  },
  {
   "cell_type": "markdown",
   "metadata": {
    "id": "48tQjFX3bL1R"
   },
   "source": [
    "**3. Задай размер доверительного интервала для каждого исследуемого сегмента 95% с помощью перцентилей**"
   ]
  },
  {
   "cell_type": "code",
   "execution_count": 78,
   "metadata": {
    "id": "gCCAbRnfbL1R"
   },
   "outputs": [],
   "source": [
    "borders = np.percentile(boot, [2.5, 97.5]) # считаем перцентили\n",
    "borders_pc = np.percentile(boot_pc, [2.5, 97.5]) \n",
    "borders_mobile = np.percentile(boot_mobile, [2.5, 97.5]) "
   ]
  },
  {
   "cell_type": "markdown",
   "metadata": {
    "id": "VX-vFjvCbL1S"
   },
   "source": [
    "**4. Оцени, есть ли статистически значимое изменение по среднему чеку в каждом сегменте**\n",
    "\n",
    "   - Построй гистограмму распределения значений среднего чека.\n",
    "   - Выведи границы доверительного интервала линиями.\n",
    "   - Выведи ноль красной линией.\n",
    "   - Оставь комментарий, есть ли статистически значимое изменение по среднему чеку в каждом сегменте.\n",
    "   "
   ]
  },
  {
   "cell_type": "code",
   "execution_count": 98,
   "metadata": {
    "id": "yrzEZotTbL1S"
   },
   "outputs": [
    {
     "name": "stderr",
     "output_type": "stream",
     "text": [
      "C:\\anaconda\\lib\\site-packages\\seaborn\\distributions.py:2619: FutureWarning: `distplot` is a deprecated function and will be removed in a future version. Please adapt your code to use either `displot` (a figure-level function with similar flexibility) or `histplot` (an axes-level function for histograms).\n",
      "  warnings.warn(msg, FutureWarning)\n"
     ]
    },
    {
     "data": {
      "image/png": "[encoded data removed]",
      "text/plain": [
       "<Figure size 864x720 with 1 Axes>"
      ]
     },
     "metadata": {
      "needs_background": "light"
     },
     "output_type": "display_data"
    }
   ],
   "source": [
    "sns.distplot(boot) # функция построения распределения\n",
    "plt.title('Bootstrap-распределение разниц среднего чека для всех')\n",
    "plt.rcParams[\"figure.figsize\"] = (12, 10)\n",
    "plt.vlines(0, # отрисуем линию на уровне ноля\n",
    "           ymin = 0, \n",
    "           ymax = 0.01, \n",
    "           linestyles= '--', \n",
    "           colors = 'red')\n",
    "plt.vlines(borders, # отрисуем перцентили\n",
    "           ymin = 0, \n",
    "           ymax = 0.01, \n",
    "           linestyles= '--', \n",
    "           colors = 'grey', \n",
    "           label = '95%-доверительный интервал')\n",
    "plt.legend()\n",
    "plt.show()"
   ]
  },
  {
   "cell_type": "code",
   "execution_count": 102,
   "metadata": {},
   "outputs": [
    {
     "name": "stderr",
     "output_type": "stream",
     "text": [
      "C:\\anaconda\\lib\\site-packages\\seaborn\\distributions.py:2619: FutureWarning: `distplot` is a deprecated function and will be removed in a future version. Please adapt your code to use either `displot` (a figure-level function with similar flexibility) or `histplot` (an axes-level function for histograms).\n",
      "  warnings.warn(msg, FutureWarning)\n"
     ]
    },
    {
     "data": {
      "image/png": "[encoded data removed]",
      "text/plain": [
       "<Figure size 864x720 with 1 Axes>"
      ]
     },
     "metadata": {
      "needs_background": "light"
     },
     "output_type": "display_data"
    }
   ],
   "source": [
    "sns.distplot(boot_pc) # функция построения распределения\n",
    "plt.title('Bootstrap-распределение разниц среднего чека для PC')\n",
    "plt.rcParams[\"figure.figsize\"] = (12, 10)\n",
    "plt.vlines(0, # отрисуем линию на уровне ноля\n",
    "           ymin = 0, \n",
    "           ymax = 0.008, \n",
    "           linestyles= '--', \n",
    "           colors = 'red')\n",
    "plt.vlines(borders_pc, # отрисуем перцентили\n",
    "           ymin = 0, \n",
    "           ymax = 0.008, \n",
    "           linestyles= '--', \n",
    "           colors = 'grey', \n",
    "           label = '95%-доверительный интервал')\n",
    "plt.legend()\n",
    "plt.show()"
   ]
  },
  {
   "cell_type": "code",
   "execution_count": 103,
   "metadata": {},
   "outputs": [
    {
     "name": "stderr",
     "output_type": "stream",
     "text": [
      "C:\\anaconda\\lib\\site-packages\\seaborn\\distributions.py:2619: FutureWarning: `distplot` is a deprecated function and will be removed in a future version. Please adapt your code to use either `displot` (a figure-level function with similar flexibility) or `histplot` (an axes-level function for histograms).\n",
      "  warnings.warn(msg, FutureWarning)\n"
     ]
    },
    {
     "data": {
      "image/png": "[encoded data removed]",
      "text/plain": [
       "<Figure size 864x720 with 1 Axes>"
      ]
     },
     "metadata": {
      "needs_background": "light"
     },
     "output_type": "display_data"
    }
   ],
   "source": [
    "sns.distplot(boot_mobile) # функция построения распределения\n",
    "plt.title('Bootstrap-распределение разниц среднего чека для PC')\n",
    "plt.rcParams[\"figure.figsize\"] = (12, 10)\n",
    "plt.vlines(0, # отрисуем линию на уровне ноля\n",
    "           ymin = 0, \n",
    "           ymax = 0.005, \n",
    "           linestyles= '--', \n",
    "           colors = 'red')\n",
    "plt.vlines(borders_mobile, # отрисуем перцентили\n",
    "           ymin = 0, \n",
    "           ymax = 0.005, \n",
    "           linestyles= '--', \n",
    "           colors = 'grey', \n",
    "           label = '95%-доверительный интервал')\n",
    "plt.legend()\n",
    "plt.show()"
   ]
  },
  {
   "cell_type": "markdown",
   "metadata": {
    "id": "feYlEGx_bL1S"
   },
   "source": [
    "## Задание 6. Сделай вывод по результатам проведенного теста (заданий 2–5)\n",
    "\n",
    "Нужно ли внедрять изменение каталога? Почему?"
   ]
  },
  {
   "cell_type": "markdown",
   "metadata": {},
   "source": [
    "# Обобщим результаты исследований\n",
    "\n",
    "Общая группа конверсия +1.87%,\n",
    "             Pvalue < 0.05,\n",
    "             Мощность -0,92,\n",
    "             Бутстрап - разница значима.\n",
    "                      \n",
    " Группа ПК конверсия +2.15%,\n",
    "           Pvalue < 0.05,\n",
    "           Мощность 0.51,\n",
    "           Бутстрап - разница незначима.\n",
    "           \n",
    " Группа mobile конверсия +1.09%,\n",
    "           Pvalue < 0.05,\n",
    "           Мощность 0.799,\n",
    "           Бутстрап - разница незначима.\n",
    "           \n",
    "Общая группа показала, что с большой долей вероятности конверсия должна вырасти на 1,8%, но при это нужно учитывать, что распределение пользователей ПК и телефонов на контрольные и тестовые группы было неравным, так у пользователей телефонов контрольная группа была в 2 раза больше тестовой, а у пк пользователей тестовая группа на 25% больше контрольной поэтому я \n",
    "бы рекомендовал уравнять эти группы и еще раз провести исследования и если они покажут такие же результаты, то можно будет применить изменения.\n",
    "           \n",
    "\n",
    "                                                    "
   ]
  },
  {
   "cell_type": "markdown",
   "metadata": {
    "id": "L3mfyEI4bL1S"
   },
   "source": [
    "# 🎉🎉🎉 Поздравляем, ты великолепен! "
   ]
  }
 ],
 "metadata": {
  "colab": {
   "name": "Skills_Python_4.1_homework.ipynb",
   "provenance": []
  },
  "kernelspec": {
   "display_name": "Python 3 (ipykernel)",
   "language": "python",
   "name": "python3"
  },
  "language_info": {
   "codemirror_mode": {
    "name": "ipython",
    "version": 3
   },
   "file_extension": ".py",
   "mimetype": "text/x-python",
   "name": "python",
   "nbconvert_exporter": "python",
   "pygments_lexer": "ipython3",
   "version": "3.9.7"
  }
 },
 "nbformat": 4,
 "nbformat_minor": 1
}
